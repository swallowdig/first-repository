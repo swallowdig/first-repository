{
 "cells": [
  {
   "cell_type": "code",
   "execution_count": 197,
   "id": "19481526",
   "metadata": {},
   "outputs": [],
   "source": [
    "import pandas as pd\n",
    "import numpy as np\n",
    "import matplotlib.pyplot as plt\n",
    "import seaborn as sns"
   ]
  },
  {
   "cell_type": "code",
   "execution_count": 198,
   "id": "b3df99cb",
   "metadata": {},
   "outputs": [],
   "source": [
    "data = pd.read_csv('~/data/trip.csv')\n"
   ]
  },
  {
   "cell_type": "code",
   "execution_count": 199,
   "id": "7ee5b35c",
   "metadata": {},
   "outputs": [
    {
     "data": {
      "text/html": [
       "<div>\n",
       "<style scoped>\n",
       "    .dataframe tbody tr th:only-of-type {\n",
       "        vertical-align: middle;\n",
       "    }\n",
       "\n",
       "    .dataframe tbody tr th {\n",
       "        vertical-align: top;\n",
       "    }\n",
       "\n",
       "    .dataframe thead th {\n",
       "        text-align: right;\n",
       "    }\n",
       "</style>\n",
       "<table border=\"1\" class=\"dataframe\">\n",
       "  <thead>\n",
       "    <tr style=\"text-align: right;\">\n",
       "      <th></th>\n",
       "      <th>passenger_name</th>\n",
       "      <th>tpep_pickup_datetime</th>\n",
       "      <th>tpep_dropoff_datetime</th>\n",
       "      <th>payment_method</th>\n",
       "      <th>passenger_count</th>\n",
       "      <th>trip_distance</th>\n",
       "      <th>fare_amount</th>\n",
       "      <th>tip_amount</th>\n",
       "      <th>tolls_amount</th>\n",
       "    </tr>\n",
       "  </thead>\n",
       "  <tbody>\n",
       "    <tr>\n",
       "      <th>0</th>\n",
       "      <td>Pamela Duffy</td>\n",
       "      <td>03/25/2017 8:55:43 AM</td>\n",
       "      <td>03/25/2017 9:09:47 AM</td>\n",
       "      <td>Debit Card</td>\n",
       "      <td>6</td>\n",
       "      <td>3.34</td>\n",
       "      <td>13.0</td>\n",
       "      <td>2.76</td>\n",
       "      <td>0.0</td>\n",
       "    </tr>\n",
       "    <tr>\n",
       "      <th>1</th>\n",
       "      <td>Michelle Foster</td>\n",
       "      <td>04/11/2017 2:53:28 PM</td>\n",
       "      <td>04/11/2017 3:19:58 PM</td>\n",
       "      <td>Debit Card</td>\n",
       "      <td>1</td>\n",
       "      <td>1.80</td>\n",
       "      <td>16.0</td>\n",
       "      <td>4.00</td>\n",
       "      <td>0.0</td>\n",
       "    </tr>\n",
       "    <tr>\n",
       "      <th>2</th>\n",
       "      <td>Tina Combs</td>\n",
       "      <td>12/15/2017 7:26:56 AM</td>\n",
       "      <td>12/15/2017 7:34:08 AM</td>\n",
       "      <td>Debit Card</td>\n",
       "      <td>1</td>\n",
       "      <td>1.00</td>\n",
       "      <td>6.5</td>\n",
       "      <td>1.45</td>\n",
       "      <td>0.0</td>\n",
       "    </tr>\n",
       "    <tr>\n",
       "      <th>3</th>\n",
       "      <td>Anthony Ray</td>\n",
       "      <td>05/07/2017 1:17:59 PM</td>\n",
       "      <td>05/07/2017 1:48:14 PM</td>\n",
       "      <td>Cash</td>\n",
       "      <td>1</td>\n",
       "      <td>3.70</td>\n",
       "      <td>20.5</td>\n",
       "      <td>6.39</td>\n",
       "      <td>0.0</td>\n",
       "    </tr>\n",
       "    <tr>\n",
       "      <th>4</th>\n",
       "      <td>Brianna Johnson</td>\n",
       "      <td>04/15/2017 11:32:20 PM</td>\n",
       "      <td>04/15/2017 11:49:03 PM</td>\n",
       "      <td>Debit Card</td>\n",
       "      <td>1</td>\n",
       "      <td>4.37</td>\n",
       "      <td>16.5</td>\n",
       "      <td>0.00</td>\n",
       "      <td>0.0</td>\n",
       "    </tr>\n",
       "  </tbody>\n",
       "</table>\n",
       "</div>"
      ],
      "text/plain": [
       "    passenger_name    tpep_pickup_datetime   tpep_dropoff_datetime  \\\n",
       "0     Pamela Duffy   03/25/2017 8:55:43 AM   03/25/2017 9:09:47 AM   \n",
       "1  Michelle Foster   04/11/2017 2:53:28 PM   04/11/2017 3:19:58 PM   \n",
       "2       Tina Combs   12/15/2017 7:26:56 AM   12/15/2017 7:34:08 AM   \n",
       "3      Anthony Ray   05/07/2017 1:17:59 PM   05/07/2017 1:48:14 PM   \n",
       "4  Brianna Johnson  04/15/2017 11:32:20 PM  04/15/2017 11:49:03 PM   \n",
       "\n",
       "  payment_method  passenger_count  trip_distance  fare_amount  tip_amount  \\\n",
       "0     Debit Card                6           3.34         13.0        2.76   \n",
       "1     Debit Card                1           1.80         16.0        4.00   \n",
       "2     Debit Card                1           1.00          6.5        1.45   \n",
       "3           Cash                1           3.70         20.5        6.39   \n",
       "4     Debit Card                1           4.37         16.5        0.00   \n",
       "\n",
       "   tolls_amount  \n",
       "0           0.0  \n",
       "1           0.0  \n",
       "2           0.0  \n",
       "3           0.0  \n",
       "4           0.0  "
      ]
     },
     "execution_count": 199,
     "metadata": {},
     "output_type": "execute_result"
    }
   ],
   "source": [
    "data.head()"
   ]
  },
  {
   "cell_type": "code",
   "execution_count": 200,
   "id": "69133eca",
   "metadata": {},
   "outputs": [
    {
     "name": "stdout",
     "output_type": "stream",
     "text": [
      "<class 'pandas.core.frame.DataFrame'>\n",
      "RangeIndex: 22701 entries, 0 to 22700\n",
      "Data columns (total 9 columns):\n",
      " #   Column                 Non-Null Count  Dtype  \n",
      "---  ------                 --------------  -----  \n",
      " 0   passenger_name         22701 non-null  object \n",
      " 1   tpep_pickup_datetime   22701 non-null  object \n",
      " 2   tpep_dropoff_datetime  22701 non-null  object \n",
      " 3   payment_method         22701 non-null  object \n",
      " 4   passenger_count        22701 non-null  int64  \n",
      " 5   trip_distance          22701 non-null  float64\n",
      " 6   fare_amount            22698 non-null  float64\n",
      " 7   tip_amount             22701 non-null  float64\n",
      " 8   tolls_amount           22701 non-null  float64\n",
      "dtypes: float64(4), int64(1), object(4)\n",
      "memory usage: 1.6+ MB\n"
     ]
    }
   ],
   "source": [
    "# Q. info() 메서드를 사용하여 데이터 컬럼명과 자료형을 확인합니다.\n",
    "\n",
    "data.info()"
   ]
  },
  {
   "cell_type": "code",
   "execution_count": 201,
   "id": "d5ddf755",
   "metadata": {},
   "outputs": [
    {
     "data": {
      "text/html": [
       "<div>\n",
       "<style scoped>\n",
       "    .dataframe tbody tr th:only-of-type {\n",
       "        vertical-align: middle;\n",
       "    }\n",
       "\n",
       "    .dataframe tbody tr th {\n",
       "        vertical-align: top;\n",
       "    }\n",
       "\n",
       "    .dataframe thead th {\n",
       "        text-align: right;\n",
       "    }\n",
       "</style>\n",
       "<table border=\"1\" class=\"dataframe\">\n",
       "  <thead>\n",
       "    <tr style=\"text-align: right;\">\n",
       "      <th></th>\n",
       "      <th>passenger_count</th>\n",
       "      <th>trip_distance</th>\n",
       "      <th>fare_amount</th>\n",
       "      <th>tip_amount</th>\n",
       "      <th>tolls_amount</th>\n",
       "    </tr>\n",
       "  </thead>\n",
       "  <tbody>\n",
       "    <tr>\n",
       "      <th>count</th>\n",
       "      <td>22701.000000</td>\n",
       "      <td>22701.000000</td>\n",
       "      <td>22698.000000</td>\n",
       "      <td>22701.000000</td>\n",
       "      <td>22701.000000</td>\n",
       "    </tr>\n",
       "    <tr>\n",
       "      <th>mean</th>\n",
       "      <td>1.643584</td>\n",
       "      <td>2.913400</td>\n",
       "      <td>13.024009</td>\n",
       "      <td>1.835745</td>\n",
       "      <td>0.312514</td>\n",
       "    </tr>\n",
       "    <tr>\n",
       "      <th>std</th>\n",
       "      <td>1.304942</td>\n",
       "      <td>3.653023</td>\n",
       "      <td>13.240074</td>\n",
       "      <td>2.800537</td>\n",
       "      <td>1.399153</td>\n",
       "    </tr>\n",
       "    <tr>\n",
       "      <th>min</th>\n",
       "      <td>0.000000</td>\n",
       "      <td>0.000000</td>\n",
       "      <td>-120.000000</td>\n",
       "      <td>0.000000</td>\n",
       "      <td>0.000000</td>\n",
       "    </tr>\n",
       "    <tr>\n",
       "      <th>25%</th>\n",
       "      <td>1.000000</td>\n",
       "      <td>0.990000</td>\n",
       "      <td>6.500000</td>\n",
       "      <td>0.000000</td>\n",
       "      <td>0.000000</td>\n",
       "    </tr>\n",
       "    <tr>\n",
       "      <th>50%</th>\n",
       "      <td>1.000000</td>\n",
       "      <td>1.610000</td>\n",
       "      <td>9.500000</td>\n",
       "      <td>1.350000</td>\n",
       "      <td>0.000000</td>\n",
       "    </tr>\n",
       "    <tr>\n",
       "      <th>75%</th>\n",
       "      <td>2.000000</td>\n",
       "      <td>3.060000</td>\n",
       "      <td>14.500000</td>\n",
       "      <td>2.450000</td>\n",
       "      <td>0.000000</td>\n",
       "    </tr>\n",
       "    <tr>\n",
       "      <th>max</th>\n",
       "      <td>36.000000</td>\n",
       "      <td>33.960000</td>\n",
       "      <td>999.990000</td>\n",
       "      <td>200.000000</td>\n",
       "      <td>19.100000</td>\n",
       "    </tr>\n",
       "  </tbody>\n",
       "</table>\n",
       "</div>"
      ],
      "text/plain": [
       "       passenger_count  trip_distance   fare_amount    tip_amount  \\\n",
       "count     22701.000000   22701.000000  22698.000000  22701.000000   \n",
       "mean          1.643584       2.913400     13.024009      1.835745   \n",
       "std           1.304942       3.653023     13.240074      2.800537   \n",
       "min           0.000000       0.000000   -120.000000      0.000000   \n",
       "25%           1.000000       0.990000      6.500000      0.000000   \n",
       "50%           1.000000       1.610000      9.500000      1.350000   \n",
       "75%           2.000000       3.060000     14.500000      2.450000   \n",
       "max          36.000000      33.960000    999.990000    200.000000   \n",
       "\n",
       "       tolls_amount  \n",
       "count  22701.000000  \n",
       "mean       0.312514  \n",
       "std        1.399153  \n",
       "min        0.000000  \n",
       "25%        0.000000  \n",
       "50%        0.000000  \n",
       "75%        0.000000  \n",
       "max       19.100000  "
      ]
     },
     "execution_count": 201,
     "metadata": {},
     "output_type": "execute_result"
    }
   ],
   "source": [
    "# Q. describe() 메서드를 사용하여 데이터 컬럼별 통계량을 확인합니다.\n",
    "\n",
    "data.describe()"
   ]
  },
  {
   "cell_type": "code",
   "execution_count": 202,
   "id": "e14431d7",
   "metadata": {},
   "outputs": [
    {
     "data": {
      "text/html": [
       "<div>\n",
       "<style scoped>\n",
       "    .dataframe tbody tr th:only-of-type {\n",
       "        vertical-align: middle;\n",
       "    }\n",
       "\n",
       "    .dataframe tbody tr th {\n",
       "        vertical-align: top;\n",
       "    }\n",
       "\n",
       "    .dataframe thead th {\n",
       "        text-align: right;\n",
       "    }\n",
       "</style>\n",
       "<table border=\"1\" class=\"dataframe\">\n",
       "  <thead>\n",
       "    <tr style=\"text-align: right;\">\n",
       "      <th></th>\n",
       "      <th>passenger_name</th>\n",
       "      <th>tpep_pickup_datetime</th>\n",
       "      <th>tpep_dropoff_datetime</th>\n",
       "      <th>payment_method</th>\n",
       "      <th>passenger_count</th>\n",
       "      <th>trip_distance</th>\n",
       "      <th>fare_amount</th>\n",
       "      <th>tip_amount</th>\n",
       "      <th>tolls_amount</th>\n",
       "    </tr>\n",
       "  </thead>\n",
       "  <tbody>\n",
       "    <tr>\n",
       "      <th>17</th>\n",
       "      <td>Sarah Gross</td>\n",
       "      <td>08/15/2017 7:48:08 PM</td>\n",
       "      <td>08/15/2017 8:00:37 PM</td>\n",
       "      <td>Cash</td>\n",
       "      <td>1</td>\n",
       "      <td>3.6</td>\n",
       "      <td>12.5</td>\n",
       "      <td>2.85</td>\n",
       "      <td>0.0</td>\n",
       "    </tr>\n",
       "    <tr>\n",
       "      <th>204</th>\n",
       "      <td>Lisa Bullock</td>\n",
       "      <td>02/13/2017 4:25:41 PM</td>\n",
       "      <td>02/13/2017 4:55:35 PM</td>\n",
       "      <td>Cash</td>\n",
       "      <td>1</td>\n",
       "      <td>4.2</td>\n",
       "      <td>21.0</td>\n",
       "      <td>0.00</td>\n",
       "      <td>0.0</td>\n",
       "    </tr>\n",
       "  </tbody>\n",
       "</table>\n",
       "</div>"
      ],
      "text/plain": [
       "    passenger_name   tpep_pickup_datetime  tpep_dropoff_datetime  \\\n",
       "17     Sarah Gross  08/15/2017 7:48:08 PM  08/15/2017 8:00:37 PM   \n",
       "204   Lisa Bullock  02/13/2017 4:25:41 PM  02/13/2017 4:55:35 PM   \n",
       "\n",
       "    payment_method  passenger_count  trip_distance  fare_amount  tip_amount  \\\n",
       "17            Cash                1            3.6         12.5        2.85   \n",
       "204           Cash                1            4.2         21.0        0.00   \n",
       "\n",
       "     tolls_amount  \n",
       "17            0.0  \n",
       "204           0.0  "
      ]
     },
     "execution_count": 202,
     "metadata": {},
     "output_type": "execute_result"
    }
   ],
   "source": [
    "# Q. 중복 데이터를 확인합니다.\n",
    "\n",
    "data[data.duplicated()]"
   ]
  },
  {
   "cell_type": "code",
   "execution_count": 203,
   "id": "bdff434b",
   "metadata": {},
   "outputs": [
    {
     "data": {
      "text/html": [
       "<div>\n",
       "<style scoped>\n",
       "    .dataframe tbody tr th:only-of-type {\n",
       "        vertical-align: middle;\n",
       "    }\n",
       "\n",
       "    .dataframe tbody tr th {\n",
       "        vertical-align: top;\n",
       "    }\n",
       "\n",
       "    .dataframe thead th {\n",
       "        text-align: right;\n",
       "    }\n",
       "</style>\n",
       "<table border=\"1\" class=\"dataframe\">\n",
       "  <thead>\n",
       "    <tr style=\"text-align: right;\">\n",
       "      <th></th>\n",
       "      <th>passenger_name</th>\n",
       "      <th>tpep_pickup_datetime</th>\n",
       "      <th>tpep_dropoff_datetime</th>\n",
       "      <th>payment_method</th>\n",
       "      <th>passenger_count</th>\n",
       "      <th>trip_distance</th>\n",
       "      <th>fare_amount</th>\n",
       "      <th>tip_amount</th>\n",
       "      <th>tolls_amount</th>\n",
       "    </tr>\n",
       "  </thead>\n",
       "  <tbody>\n",
       "    <tr>\n",
       "      <th>16</th>\n",
       "      <td>Sarah Gross</td>\n",
       "      <td>08/15/2017 7:48:08 PM</td>\n",
       "      <td>08/15/2017 8:00:37 PM</td>\n",
       "      <td>Cash</td>\n",
       "      <td>1</td>\n",
       "      <td>3.6</td>\n",
       "      <td>12.5</td>\n",
       "      <td>2.85</td>\n",
       "      <td>0.0</td>\n",
       "    </tr>\n",
       "    <tr>\n",
       "      <th>17</th>\n",
       "      <td>Sarah Gross</td>\n",
       "      <td>08/15/2017 7:48:08 PM</td>\n",
       "      <td>08/15/2017 8:00:37 PM</td>\n",
       "      <td>Cash</td>\n",
       "      <td>1</td>\n",
       "      <td>3.6</td>\n",
       "      <td>12.5</td>\n",
       "      <td>2.85</td>\n",
       "      <td>0.0</td>\n",
       "    </tr>\n",
       "  </tbody>\n",
       "</table>\n",
       "</div>"
      ],
      "text/plain": [
       "   passenger_name   tpep_pickup_datetime  tpep_dropoff_datetime  \\\n",
       "16    Sarah Gross  08/15/2017 7:48:08 PM  08/15/2017 8:00:37 PM   \n",
       "17    Sarah Gross  08/15/2017 7:48:08 PM  08/15/2017 8:00:37 PM   \n",
       "\n",
       "   payment_method  passenger_count  trip_distance  fare_amount  tip_amount  \\\n",
       "16           Cash                1            3.6         12.5        2.85   \n",
       "17           Cash                1            3.6         12.5        2.85   \n",
       "\n",
       "    tolls_amount  \n",
       "16           0.0  \n",
       "17           0.0  "
      ]
     },
     "execution_count": 203,
     "metadata": {},
     "output_type": "execute_result"
    }
   ],
   "source": [
    "# Q. 중복 데이터를 확인합니다.\n",
    "# 위에서 확인한 중복 데이터의 승객명을 [[PASSENGER_NAME]] 대신 넣어주세요.\n",
    "\n",
    "data[data['passenger_name'] == 'Sarah Gross']"
   ]
  },
  {
   "cell_type": "code",
   "execution_count": 204,
   "id": "8fcfeaa1",
   "metadata": {},
   "outputs": [],
   "source": [
    "# Q. 중복 데이터를 제거합니다.\n",
    "\n",
    "data = data.drop_duplicates()"
   ]
  },
  {
   "cell_type": "code",
   "execution_count": 205,
   "id": "0a6a6dc5",
   "metadata": {},
   "outputs": [
    {
     "data": {
      "text/html": [
       "<div>\n",
       "<style scoped>\n",
       "    .dataframe tbody tr th:only-of-type {\n",
       "        vertical-align: middle;\n",
       "    }\n",
       "\n",
       "    .dataframe tbody tr th {\n",
       "        vertical-align: top;\n",
       "    }\n",
       "\n",
       "    .dataframe thead th {\n",
       "        text-align: right;\n",
       "    }\n",
       "</style>\n",
       "<table border=\"1\" class=\"dataframe\">\n",
       "  <thead>\n",
       "    <tr style=\"text-align: right;\">\n",
       "      <th></th>\n",
       "      <th>passenger_name</th>\n",
       "      <th>tpep_pickup_datetime</th>\n",
       "      <th>tpep_dropoff_datetime</th>\n",
       "      <th>payment_method</th>\n",
       "      <th>passenger_count</th>\n",
       "      <th>trip_distance</th>\n",
       "      <th>fare_amount</th>\n",
       "      <th>tip_amount</th>\n",
       "      <th>tolls_amount</th>\n",
       "    </tr>\n",
       "  </thead>\n",
       "  <tbody>\n",
       "  </tbody>\n",
       "</table>\n",
       "</div>"
      ],
      "text/plain": [
       "Empty DataFrame\n",
       "Columns: [passenger_name, tpep_pickup_datetime, tpep_dropoff_datetime, payment_method, passenger_count, trip_distance, fare_amount, tip_amount, tolls_amount]\n",
       "Index: []"
      ]
     },
     "execution_count": 205,
     "metadata": {},
     "output_type": "execute_result"
    }
   ],
   "source": [
    "data[data.duplicated()]"
   ]
  },
  {
   "cell_type": "code",
   "execution_count": 206,
   "id": "685e2717",
   "metadata": {},
   "outputs": [
    {
     "data": {
      "text/plain": [
       "passenger_name           0\n",
       "tpep_pickup_datetime     0\n",
       "tpep_dropoff_datetime    0\n",
       "payment_method           0\n",
       "passenger_count          0\n",
       "trip_distance            0\n",
       "fare_amount              3\n",
       "tip_amount               0\n",
       "tolls_amount             0\n",
       "dtype: int64"
      ]
     },
     "execution_count": 206,
     "metadata": {},
     "output_type": "execute_result"
    }
   ],
   "source": [
    "data.isna().sum()"
   ]
  },
  {
   "cell_type": "code",
   "execution_count": 207,
   "id": "65cac309",
   "metadata": {},
   "outputs": [
    {
     "data": {
      "text/plain": [
       "passenger_name           0.000000\n",
       "tpep_pickup_datetime     0.000000\n",
       "tpep_dropoff_datetime    0.000000\n",
       "payment_method           0.000000\n",
       "passenger_count          0.000000\n",
       "trip_distance            0.000000\n",
       "fare_amount              0.013216\n",
       "tip_amount               0.000000\n",
       "tolls_amount             0.000000\n",
       "dtype: float64"
      ]
     },
     "execution_count": 207,
     "metadata": {},
     "output_type": "execute_result"
    }
   ],
   "source": [
    "# Q. 전체 데이터 대비 결측치의 비율을 확인합니다.\n",
    "data.isnull().sum() / len(data) * 100"
   ]
  },
  {
   "cell_type": "code",
   "execution_count": 208,
   "id": "1f5ec3fd",
   "metadata": {},
   "outputs": [],
   "source": [
    "# Q. 결측치를 제거합니다.\n",
    "\n",
    "data = data.dropna()\n",
    "\n"
   ]
  },
  {
   "cell_type": "code",
   "execution_count": 209,
   "id": "4b306b0f",
   "metadata": {},
   "outputs": [
    {
     "data": {
      "text/plain": [
       "passenger_name           0.0\n",
       "tpep_pickup_datetime     0.0\n",
       "tpep_dropoff_datetime    0.0\n",
       "payment_method           0.0\n",
       "passenger_count          0.0\n",
       "trip_distance            0.0\n",
       "fare_amount              0.0\n",
       "tip_amount               0.0\n",
       "tolls_amount             0.0\n",
       "dtype: float64"
      ]
     },
     "execution_count": 209,
     "metadata": {},
     "output_type": "execute_result"
    }
   ],
   "source": [
    "data.isna().mean()"
   ]
  },
  {
   "cell_type": "code",
   "execution_count": 210,
   "id": "12e948ff",
   "metadata": {},
   "outputs": [
    {
     "data": {
      "text/plain": [
       "12804     0\n",
       "19458     0\n",
       "5565      0\n",
       "5670      0\n",
       "13718     0\n",
       "         ..\n",
       "416       6\n",
       "4322      6\n",
       "14500     6\n",
       "0         6\n",
       "64       36\n",
       "Name: passenger_count, Length: 22696, dtype: int64"
      ]
     },
     "execution_count": 210,
     "metadata": {},
     "output_type": "execute_result"
    }
   ],
   "source": [
    "# passenger_count 컬럼의 값을 기준으로 정렬합니다.\n",
    "\n",
    "data['passenger_count'].sort_values()"
   ]
  },
  {
   "cell_type": "code",
   "execution_count": 211,
   "id": "219fef36",
   "metadata": {},
   "outputs": [
    {
     "data": {
      "text/plain": [
       "<AxesSubplot:ylabel='passenger_count'>"
      ]
     },
     "execution_count": 211,
     "metadata": {},
     "output_type": "execute_result"
    },
    {
     "data": {
      "image/png": "[encoded data removed]",
      "text/plain": [
       "<Figure size 432x288 with 1 Axes>"
      ]
     },
     "metadata": {
      "needs_background": "light"
     },
     "output_type": "display_data"
    }
   ],
   "source": [
    "# passenger_count 값의 scatter plot을 그립니다.\n",
    "\n",
    "sns.scatterplot(x = data.index, y = data['passenger_count'])"
   ]
  },
  {
   "cell_type": "code",
   "execution_count": 212,
   "id": "8f400f4b",
   "metadata": {},
   "outputs": [
    {
     "name": "stdout",
     "output_type": "stream",
     "text": [
      "<class 'pandas.core.frame.DataFrame'>\n",
      "Int64Index: 22695 entries, 0 to 22700\n",
      "Data columns (total 9 columns):\n",
      " #   Column                 Non-Null Count  Dtype  \n",
      "---  ------                 --------------  -----  \n",
      " 0   passenger_name         22695 non-null  object \n",
      " 1   tpep_pickup_datetime   22695 non-null  object \n",
      " 2   tpep_dropoff_datetime  22695 non-null  object \n",
      " 3   payment_method         22695 non-null  object \n",
      " 4   passenger_count        22695 non-null  int64  \n",
      " 5   trip_distance          22695 non-null  float64\n",
      " 6   fare_amount            22695 non-null  float64\n",
      " 7   tip_amount             22695 non-null  float64\n",
      " 8   tolls_amount           22695 non-null  float64\n",
      "dtypes: float64(4), int64(1), object(4)\n",
      "memory usage: 1.7+ MB\n"
     ]
    }
   ],
   "source": [
    "# passenger_count 컬럼의 이상치를 제거합니다.\n",
    "# (passenger_count가 6을 초과하는 경우)\n",
    "\n",
    "data = data[data['passenger_count'] <= 6]\n",
    "\n",
    "data.info()"
   ]
  },
  {
   "cell_type": "code",
   "execution_count": 213,
   "id": "62029d37",
   "metadata": {},
   "outputs": [
    {
     "data": {
      "text/plain": [
       "33"
      ]
     },
     "execution_count": 213,
     "metadata": {},
     "output_type": "execute_result"
    }
   ],
   "source": [
    "# passenger_count 컬럼의 이상치를 확인합니다.\n",
    "# (passenger_count가 0인 경우)\n",
    "\n",
    "len(data[data['passenger_count'] == 0])"
   ]
  },
  {
   "cell_type": "code",
   "execution_count": 214,
   "id": "9decbc5a",
   "metadata": {},
   "outputs": [],
   "source": [
    "# passenger_count 컬럼의 이상치를 제거합니다.\n",
    "\n",
    "data = data[data['passenger_count'] != 0]"
   ]
  },
  {
   "cell_type": "code",
   "execution_count": 215,
   "id": "c2b60c39",
   "metadata": {},
   "outputs": [
    {
     "data": {
      "text/plain": [
       "<AxesSubplot:ylabel='passenger_count'>"
      ]
     },
     "execution_count": 215,
     "metadata": {},
     "output_type": "execute_result"
    },
    {
     "data": {
      "image/png": "[encoded data removed]",
      "text/plain": [
       "<Figure size 432x288 with 1 Axes>"
      ]
     },
     "metadata": {
      "needs_background": "light"
     },
     "output_type": "display_data"
    }
   ],
   "source": [
    "# passenger_count의 scatter plot을 다시 그려봅니다.\n",
    "\n",
    "sns.scatterplot(x = data.index, y = data['passenger_count'])"
   ]
  },
  {
   "cell_type": "code",
   "execution_count": 216,
   "id": "ca8f4555",
   "metadata": {},
   "outputs": [
    {
     "data": {
      "text/plain": [
       "<AxesSubplot:ylabel='trip_distance'>"
      ]
     },
     "execution_count": 216,
     "metadata": {},
     "output_type": "execute_result"
    },
    {
     "data": {
      "image/png": "[encoded data removed]",
      "text/plain": [
       "<Figure size 432x288 with 1 Axes>"
      ]
     },
     "metadata": {
      "needs_background": "light"
     },
     "output_type": "display_data"
    }
   ],
   "source": [
    "# Q. trip_distance의 이상치를 확인합니다.\n",
    "\n",
    "sns.scatterplot(x = data.index, y = data['trip_distance'])\n"
   ]
  },
  {
   "cell_type": "code",
   "execution_count": 217,
   "id": "3adf5bc9",
   "metadata": {},
   "outputs": [],
   "source": [
    "# Q. trip_distance의 이상치를 제거합니다.\n",
    "\n",
    "len(data[data['trip_distance'] == 0])\n",
    "data = data[data['trip_distance'] != 0]"
   ]
  },
  {
   "cell_type": "code",
   "execution_count": 218,
   "id": "80e740ed",
   "metadata": {},
   "outputs": [
    {
     "data": {
      "text/plain": [
       "<AxesSubplot:xlabel='trip_distance', ylabel='Count'>"
      ]
     },
     "execution_count": 218,
     "metadata": {},
     "output_type": "execute_result"
    },
    {
     "data": {
      "image/png": "[encoded data removed]",
      "text/plain": [
       "<Figure size 432x288 with 1 Axes>"
      ]
     },
     "metadata": {
      "needs_background": "light"
     },
     "output_type": "display_data"
    }
   ],
   "source": [
    "# Q. trip_distance의 히스토그램을 그립니다.\n",
    "\n",
    "sns.histplot(x = data['trip_distance'])"
   ]
  },
  {
   "cell_type": "code",
   "execution_count": 219,
   "id": "048169aa",
   "metadata": {},
   "outputs": [
    {
     "data": {
      "text/html": [
       "<div>\n",
       "<style scoped>\n",
       "    .dataframe tbody tr th:only-of-type {\n",
       "        vertical-align: middle;\n",
       "    }\n",
       "\n",
       "    .dataframe tbody tr th {\n",
       "        vertical-align: top;\n",
       "    }\n",
       "\n",
       "    .dataframe thead th {\n",
       "        text-align: right;\n",
       "    }\n",
       "</style>\n",
       "<table border=\"1\" class=\"dataframe\">\n",
       "  <thead>\n",
       "    <tr style=\"text-align: right;\">\n",
       "      <th></th>\n",
       "      <th>passenger_count</th>\n",
       "      <th>trip_distance</th>\n",
       "      <th>fare_amount</th>\n",
       "      <th>tip_amount</th>\n",
       "      <th>tolls_amount</th>\n",
       "    </tr>\n",
       "  </thead>\n",
       "  <tbody>\n",
       "    <tr>\n",
       "      <th>count</th>\n",
       "      <td>22515.000000</td>\n",
       "      <td>22515.000000</td>\n",
       "      <td>22515.000000</td>\n",
       "      <td>22515.000000</td>\n",
       "      <td>22515.000000</td>\n",
       "    </tr>\n",
       "    <tr>\n",
       "      <th>mean</th>\n",
       "      <td>1.645969</td>\n",
       "      <td>2.931924</td>\n",
       "      <td>12.958055</td>\n",
       "      <td>1.829513</td>\n",
       "      <td>0.309625</td>\n",
       "    </tr>\n",
       "    <tr>\n",
       "      <th>std</th>\n",
       "      <td>1.285783</td>\n",
       "      <td>3.657290</td>\n",
       "      <td>12.701799</td>\n",
       "      <td>2.767054</td>\n",
       "      <td>1.387300</td>\n",
       "    </tr>\n",
       "    <tr>\n",
       "      <th>min</th>\n",
       "      <td>1.000000</td>\n",
       "      <td>0.010000</td>\n",
       "      <td>-120.000000</td>\n",
       "      <td>0.000000</td>\n",
       "      <td>0.000000</td>\n",
       "    </tr>\n",
       "    <tr>\n",
       "      <th>25%</th>\n",
       "      <td>1.000000</td>\n",
       "      <td>1.000000</td>\n",
       "      <td>6.500000</td>\n",
       "      <td>0.000000</td>\n",
       "      <td>0.000000</td>\n",
       "    </tr>\n",
       "    <tr>\n",
       "      <th>50%</th>\n",
       "      <td>1.000000</td>\n",
       "      <td>1.630000</td>\n",
       "      <td>9.500000</td>\n",
       "      <td>1.360000</td>\n",
       "      <td>0.000000</td>\n",
       "    </tr>\n",
       "    <tr>\n",
       "      <th>75%</th>\n",
       "      <td>2.000000</td>\n",
       "      <td>3.090000</td>\n",
       "      <td>14.500000</td>\n",
       "      <td>2.450000</td>\n",
       "      <td>0.000000</td>\n",
       "    </tr>\n",
       "    <tr>\n",
       "      <th>max</th>\n",
       "      <td>6.000000</td>\n",
       "      <td>33.960000</td>\n",
       "      <td>999.990000</td>\n",
       "      <td>200.000000</td>\n",
       "      <td>19.100000</td>\n",
       "    </tr>\n",
       "  </tbody>\n",
       "</table>\n",
       "</div>"
      ],
      "text/plain": [
       "       passenger_count  trip_distance   fare_amount    tip_amount  \\\n",
       "count     22515.000000   22515.000000  22515.000000  22515.000000   \n",
       "mean          1.645969       2.931924     12.958055      1.829513   \n",
       "std           1.285783       3.657290     12.701799      2.767054   \n",
       "min           1.000000       0.010000   -120.000000      0.000000   \n",
       "25%           1.000000       1.000000      6.500000      0.000000   \n",
       "50%           1.000000       1.630000      9.500000      1.360000   \n",
       "75%           2.000000       3.090000     14.500000      2.450000   \n",
       "max           6.000000      33.960000    999.990000    200.000000   \n",
       "\n",
       "       tolls_amount  \n",
       "count  22515.000000  \n",
       "mean       0.309625  \n",
       "std        1.387300  \n",
       "min        0.000000  \n",
       "25%        0.000000  \n",
       "50%        0.000000  \n",
       "75%        0.000000  \n",
       "max       19.100000  "
      ]
     },
     "execution_count": 219,
     "metadata": {},
     "output_type": "execute_result"
    }
   ],
   "source": [
    "data.describe()"
   ]
  },
  {
   "cell_type": "code",
   "execution_count": 220,
   "id": "e54fa73d",
   "metadata": {},
   "outputs": [
    {
     "data": {
      "text/plain": [
       "13"
      ]
     },
     "execution_count": 220,
     "metadata": {},
     "output_type": "execute_result"
    }
   ],
   "source": [
    "# Q. fare_amount의 이상치 데이터 개수를 확인합니다.\n",
    "# (fare_amount가 0 이하인 경우)\n",
    "\n",
    "len(data[data['fare_amount'] < 0])"
   ]
  },
  {
   "cell_type": "code",
   "execution_count": 221,
   "id": "6e7c7c5e",
   "metadata": {},
   "outputs": [],
   "source": [
    "# Q. fare_amount의 이상치를 제거합니다.\n",
    "\n",
    "data = (data[data['fare_amount'] >= 0])"
   ]
  },
  {
   "cell_type": "code",
   "execution_count": 222,
   "id": "a0fb2ec7",
   "metadata": {},
   "outputs": [
    {
     "data": {
      "text/html": [
       "<div>\n",
       "<style scoped>\n",
       "    .dataframe tbody tr th:only-of-type {\n",
       "        vertical-align: middle;\n",
       "    }\n",
       "\n",
       "    .dataframe tbody tr th {\n",
       "        vertical-align: top;\n",
       "    }\n",
       "\n",
       "    .dataframe thead th {\n",
       "        text-align: right;\n",
       "    }\n",
       "</style>\n",
       "<table border=\"1\" class=\"dataframe\">\n",
       "  <thead>\n",
       "    <tr style=\"text-align: right;\">\n",
       "      <th></th>\n",
       "      <th>passenger_name</th>\n",
       "      <th>tpep_pickup_datetime</th>\n",
       "      <th>tpep_dropoff_datetime</th>\n",
       "      <th>payment_method</th>\n",
       "      <th>passenger_count</th>\n",
       "      <th>trip_distance</th>\n",
       "      <th>fare_amount</th>\n",
       "      <th>tip_amount</th>\n",
       "      <th>tolls_amount</th>\n",
       "    </tr>\n",
       "  </thead>\n",
       "  <tbody>\n",
       "    <tr>\n",
       "      <th>21844</th>\n",
       "      <td>Reginald Baker</td>\n",
       "      <td>04/18/2017 4:55:29 PM</td>\n",
       "      <td>04/18/2017 6:29:44 PM</td>\n",
       "      <td>Cash</td>\n",
       "      <td>2</td>\n",
       "      <td>20.40</td>\n",
       "      <td>0.00</td>\n",
       "      <td>0.00</td>\n",
       "      <td>12.50</td>\n",
       "    </tr>\n",
       "    <tr>\n",
       "      <th>19069</th>\n",
       "      <td>Glenn Garrett</td>\n",
       "      <td>07/10/2017 2:40:09 PM</td>\n",
       "      <td>07/10/2017 2:40:59 PM</td>\n",
       "      <td>Cash</td>\n",
       "      <td>1</td>\n",
       "      <td>0.10</td>\n",
       "      <td>0.00</td>\n",
       "      <td>0.00</td>\n",
       "      <td>0.00</td>\n",
       "    </tr>\n",
       "    <tr>\n",
       "      <th>4404</th>\n",
       "      <td>Mrs. Tiffany Brown DDS</td>\n",
       "      <td>12/20/2017 4:06:53 PM</td>\n",
       "      <td>12/20/2017 4:47:50 PM</td>\n",
       "      <td>Cash</td>\n",
       "      <td>1</td>\n",
       "      <td>7.06</td>\n",
       "      <td>0.00</td>\n",
       "      <td>0.00</td>\n",
       "      <td>0.00</td>\n",
       "    </tr>\n",
       "    <tr>\n",
       "      <th>4063</th>\n",
       "      <td>Phillip Gonzalez</td>\n",
       "      <td>08/12/2017 8:49:29 PM</td>\n",
       "      <td>08/12/2017 9:18:50 PM</td>\n",
       "      <td>Cash</td>\n",
       "      <td>4</td>\n",
       "      <td>4.50</td>\n",
       "      <td>0.01</td>\n",
       "      <td>0.00</td>\n",
       "      <td>10.50</td>\n",
       "    </tr>\n",
       "    <tr>\n",
       "      <th>17236</th>\n",
       "      <td>Megan Walker</td>\n",
       "      <td>02/21/2017 10:19:02 PM</td>\n",
       "      <td>02/21/2017 10:19:50 PM</td>\n",
       "      <td>Debit Card</td>\n",
       "      <td>1</td>\n",
       "      <td>0.10</td>\n",
       "      <td>2.50</td>\n",
       "      <td>0.00</td>\n",
       "      <td>0.00</td>\n",
       "    </tr>\n",
       "    <tr>\n",
       "      <th>...</th>\n",
       "      <td>...</td>\n",
       "      <td>...</td>\n",
       "      <td>...</td>\n",
       "      <td>...</td>\n",
       "      <td>...</td>\n",
       "      <td>...</td>\n",
       "      <td>...</td>\n",
       "      <td>...</td>\n",
       "      <td>...</td>\n",
       "    </tr>\n",
       "    <tr>\n",
       "      <th>16381</th>\n",
       "      <td>Erica Hernandez</td>\n",
       "      <td>11/30/2017 10:41:11 AM</td>\n",
       "      <td>11/30/2017 11:31:45 AM</td>\n",
       "      <td>Cash</td>\n",
       "      <td>1</td>\n",
       "      <td>25.50</td>\n",
       "      <td>140.00</td>\n",
       "      <td>0.00</td>\n",
       "      <td>16.26</td>\n",
       "    </tr>\n",
       "    <tr>\n",
       "      <th>9282</th>\n",
       "      <td>Samantha Frederick</td>\n",
       "      <td>06/18/2017 11:33:25 PM</td>\n",
       "      <td>06/19/2017 12:12:38 AM</td>\n",
       "      <td>Cash</td>\n",
       "      <td>2</td>\n",
       "      <td>33.96</td>\n",
       "      <td>150.00</td>\n",
       "      <td>0.00</td>\n",
       "      <td>0.00</td>\n",
       "    </tr>\n",
       "    <tr>\n",
       "      <th>3584</th>\n",
       "      <td>Matthew Chavez</td>\n",
       "      <td>01/01/2017 11:53:01 PM</td>\n",
       "      <td>01/01/2017 11:53:42 PM</td>\n",
       "      <td>Credit Card</td>\n",
       "      <td>1</td>\n",
       "      <td>7.30</td>\n",
       "      <td>152.00</td>\n",
       "      <td>0.00</td>\n",
       "      <td>0.00</td>\n",
       "    </tr>\n",
       "    <tr>\n",
       "      <th>13863</th>\n",
       "      <td>William Yates</td>\n",
       "      <td>05/19/2017 8:20:21 AM</td>\n",
       "      <td>05/19/2017 9:20:30 AM</td>\n",
       "      <td>Credit Card</td>\n",
       "      <td>1</td>\n",
       "      <td>33.92</td>\n",
       "      <td>200.01</td>\n",
       "      <td>51.64</td>\n",
       "      <td>5.76</td>\n",
       "    </tr>\n",
       "    <tr>\n",
       "      <th>8478</th>\n",
       "      <td>Alexis Hanson</td>\n",
       "      <td>02/06/2017 5:50:10 AM</td>\n",
       "      <td>02/06/2017 5:51:08 AM</td>\n",
       "      <td>Credit Card</td>\n",
       "      <td>1</td>\n",
       "      <td>2.60</td>\n",
       "      <td>999.99</td>\n",
       "      <td>200.00</td>\n",
       "      <td>0.00</td>\n",
       "    </tr>\n",
       "  </tbody>\n",
       "</table>\n",
       "<p>22502 rows × 9 columns</p>\n",
       "</div>"
      ],
      "text/plain": [
       "               passenger_name    tpep_pickup_datetime   tpep_dropoff_datetime  \\\n",
       "21844          Reginald Baker   04/18/2017 4:55:29 PM   04/18/2017 6:29:44 PM   \n",
       "19069           Glenn Garrett   07/10/2017 2:40:09 PM   07/10/2017 2:40:59 PM   \n",
       "4404   Mrs. Tiffany Brown DDS   12/20/2017 4:06:53 PM   12/20/2017 4:47:50 PM   \n",
       "4063         Phillip Gonzalez   08/12/2017 8:49:29 PM   08/12/2017 9:18:50 PM   \n",
       "17236            Megan Walker  02/21/2017 10:19:02 PM  02/21/2017 10:19:50 PM   \n",
       "...                       ...                     ...                     ...   \n",
       "16381         Erica Hernandez  11/30/2017 10:41:11 AM  11/30/2017 11:31:45 AM   \n",
       "9282       Samantha Frederick  06/18/2017 11:33:25 PM  06/19/2017 12:12:38 AM   \n",
       "3584           Matthew Chavez  01/01/2017 11:53:01 PM  01/01/2017 11:53:42 PM   \n",
       "13863           William Yates   05/19/2017 8:20:21 AM   05/19/2017 9:20:30 AM   \n",
       "8478            Alexis Hanson   02/06/2017 5:50:10 AM   02/06/2017 5:51:08 AM   \n",
       "\n",
       "      payment_method  passenger_count  trip_distance  fare_amount  tip_amount  \\\n",
       "21844           Cash                2          20.40         0.00        0.00   \n",
       "19069           Cash                1           0.10         0.00        0.00   \n",
       "4404            Cash                1           7.06         0.00        0.00   \n",
       "4063            Cash                4           4.50         0.01        0.00   \n",
       "17236     Debit Card                1           0.10         2.50        0.00   \n",
       "...              ...              ...            ...          ...         ...   \n",
       "16381           Cash                1          25.50       140.00        0.00   \n",
       "9282            Cash                2          33.96       150.00        0.00   \n",
       "3584     Credit Card                1           7.30       152.00        0.00   \n",
       "13863    Credit Card                1          33.92       200.01       51.64   \n",
       "8478     Credit Card                1           2.60       999.99      200.00   \n",
       "\n",
       "       tolls_amount  \n",
       "21844         12.50  \n",
       "19069          0.00  \n",
       "4404           0.00  \n",
       "4063          10.50  \n",
       "17236          0.00  \n",
       "...             ...  \n",
       "16381         16.26  \n",
       "9282           0.00  \n",
       "3584           0.00  \n",
       "13863          5.76  \n",
       "8478           0.00  \n",
       "\n",
       "[22502 rows x 9 columns]"
      ]
     },
     "execution_count": 222,
     "metadata": {},
     "output_type": "execute_result"
    }
   ],
   "source": [
    "data.sort_values('fare_amount')"
   ]
  },
  {
   "cell_type": "code",
   "execution_count": 223,
   "id": "f13f74cc",
   "metadata": {},
   "outputs": [],
   "source": [
    "# Q. fare_amount의 이상치를 제거합니다.\n",
    "\n",
    "data = (data[data['fare_amount'] != 0])"
   ]
  },
  {
   "cell_type": "code",
   "execution_count": 224,
   "id": "6d3f4c46",
   "metadata": {},
   "outputs": [
    {
     "data": {
      "text/plain": [
       "<AxesSubplot:ylabel='fare_amount'>"
      ]
     },
     "execution_count": 224,
     "metadata": {},
     "output_type": "execute_result"
    },
    {
     "data": {
      "image/png": "[encoded data removed]",
      "text/plain": [
       "<Figure size 432x288 with 1 Axes>"
      ]
     },
     "metadata": {
      "needs_background": "light"
     },
     "output_type": "display_data"
    }
   ],
   "source": [
    "# Q. fare_amount의 scatter plot을 그립니다.\n",
    "sns.scatterplot(x = data.index,y = data['fare_amount'])"
   ]
  },
  {
   "cell_type": "code",
   "execution_count": 225,
   "id": "8a35b28d",
   "metadata": {},
   "outputs": [],
   "source": [
    "# fare_amount가 150을 초과한다면 150으로 변환합니다.\n",
    "\n",
    "def fare_func(x):\n",
    "    if x > 150:\n",
    "        return 150\n",
    "    else:\n",
    "        return x"
   ]
  },
  {
   "cell_type": "code",
   "execution_count": 226,
   "id": "accd784f",
   "metadata": {},
   "outputs": [
    {
     "data": {
      "text/plain": [
       "0        13.0\n",
       "1        16.0\n",
       "2         6.5\n",
       "3        20.5\n",
       "4        16.5\n",
       "         ... \n",
       "22696     4.0\n",
       "22697    52.0\n",
       "22698     4.5\n",
       "22699    10.5\n",
       "22700    11.0\n",
       "Name: fare_amount, Length: 22499, dtype: float64"
      ]
     },
     "execution_count": 226,
     "metadata": {},
     "output_type": "execute_result"
    }
   ],
   "source": [
    "data['fare_amount'].apply(fare_func)"
   ]
  },
  {
   "cell_type": "code",
   "execution_count": 227,
   "id": "b0df8f30",
   "metadata": {},
   "outputs": [],
   "source": [
    "data['fare_amount'] = data['fare_amount'].apply(lambda x: 150 if x > 150 else x)"
   ]
  },
  {
   "cell_type": "code",
   "execution_count": 228,
   "id": "68961fa1",
   "metadata": {},
   "outputs": [
    {
     "data": {
      "text/html": [
       "<div>\n",
       "<style scoped>\n",
       "    .dataframe tbody tr th:only-of-type {\n",
       "        vertical-align: middle;\n",
       "    }\n",
       "\n",
       "    .dataframe tbody tr th {\n",
       "        vertical-align: top;\n",
       "    }\n",
       "\n",
       "    .dataframe thead th {\n",
       "        text-align: right;\n",
       "    }\n",
       "</style>\n",
       "<table border=\"1\" class=\"dataframe\">\n",
       "  <thead>\n",
       "    <tr style=\"text-align: right;\">\n",
       "      <th></th>\n",
       "      <th>passenger_name</th>\n",
       "      <th>tpep_pickup_datetime</th>\n",
       "      <th>tpep_dropoff_datetime</th>\n",
       "      <th>payment_method</th>\n",
       "      <th>passenger_count</th>\n",
       "      <th>trip_distance</th>\n",
       "      <th>fare_amount</th>\n",
       "      <th>tip_amount</th>\n",
       "      <th>tolls_amount</th>\n",
       "    </tr>\n",
       "  </thead>\n",
       "  <tbody>\n",
       "    <tr>\n",
       "      <th>4063</th>\n",
       "      <td>Phillip Gonzalez</td>\n",
       "      <td>08/12/2017 8:49:29 PM</td>\n",
       "      <td>08/12/2017 9:18:50 PM</td>\n",
       "      <td>Cash</td>\n",
       "      <td>4</td>\n",
       "      <td>4.50</td>\n",
       "      <td>0.01</td>\n",
       "      <td>0.00</td>\n",
       "      <td>10.50</td>\n",
       "    </tr>\n",
       "    <tr>\n",
       "      <th>14470</th>\n",
       "      <td>Leah Carrillo</td>\n",
       "      <td>09/09/2017 1:29:37 PM</td>\n",
       "      <td>09/09/2017 1:29:57 PM</td>\n",
       "      <td>Credit Card</td>\n",
       "      <td>3</td>\n",
       "      <td>0.02</td>\n",
       "      <td>2.50</td>\n",
       "      <td>0.00</td>\n",
       "      <td>0.00</td>\n",
       "    </tr>\n",
       "    <tr>\n",
       "      <th>2987</th>\n",
       "      <td>Christine Harper</td>\n",
       "      <td>11/24/2017 4:32:18 AM</td>\n",
       "      <td>11/24/2017 4:32:23 AM</td>\n",
       "      <td>Credit Card</td>\n",
       "      <td>1</td>\n",
       "      <td>0.01</td>\n",
       "      <td>2.50</td>\n",
       "      <td>0.00</td>\n",
       "      <td>0.00</td>\n",
       "    </tr>\n",
       "    <tr>\n",
       "      <th>16351</th>\n",
       "      <td>Nathan Salazar</td>\n",
       "      <td>05/13/2017 5:42:22 PM</td>\n",
       "      <td>05/13/2017 5:42:45 PM</td>\n",
       "      <td>Cash</td>\n",
       "      <td>1</td>\n",
       "      <td>0.02</td>\n",
       "      <td>2.50</td>\n",
       "      <td>0.00</td>\n",
       "      <td>0.00</td>\n",
       "    </tr>\n",
       "    <tr>\n",
       "      <th>6702</th>\n",
       "      <td>Yvonne Brooks</td>\n",
       "      <td>08/26/2017 7:33:22 AM</td>\n",
       "      <td>08/26/2017 7:34:18 AM</td>\n",
       "      <td>Debit Card</td>\n",
       "      <td>1</td>\n",
       "      <td>0.10</td>\n",
       "      <td>2.50</td>\n",
       "      <td>0.00</td>\n",
       "      <td>0.00</td>\n",
       "    </tr>\n",
       "    <tr>\n",
       "      <th>...</th>\n",
       "      <td>...</td>\n",
       "      <td>...</td>\n",
       "      <td>...</td>\n",
       "      <td>...</td>\n",
       "      <td>...</td>\n",
       "      <td>...</td>\n",
       "      <td>...</td>\n",
       "      <td>...</td>\n",
       "      <td>...</td>\n",
       "    </tr>\n",
       "    <tr>\n",
       "      <th>16381</th>\n",
       "      <td>Erica Hernandez</td>\n",
       "      <td>11/30/2017 10:41:11 AM</td>\n",
       "      <td>11/30/2017 11:31:45 AM</td>\n",
       "      <td>Cash</td>\n",
       "      <td>1</td>\n",
       "      <td>25.50</td>\n",
       "      <td>140.00</td>\n",
       "      <td>0.00</td>\n",
       "      <td>16.26</td>\n",
       "    </tr>\n",
       "    <tr>\n",
       "      <th>13863</th>\n",
       "      <td>William Yates</td>\n",
       "      <td>05/19/2017 8:20:21 AM</td>\n",
       "      <td>05/19/2017 9:20:30 AM</td>\n",
       "      <td>Credit Card</td>\n",
       "      <td>1</td>\n",
       "      <td>33.92</td>\n",
       "      <td>150.00</td>\n",
       "      <td>51.64</td>\n",
       "      <td>5.76</td>\n",
       "    </tr>\n",
       "    <tr>\n",
       "      <th>9282</th>\n",
       "      <td>Samantha Frederick</td>\n",
       "      <td>06/18/2017 11:33:25 PM</td>\n",
       "      <td>06/19/2017 12:12:38 AM</td>\n",
       "      <td>Cash</td>\n",
       "      <td>2</td>\n",
       "      <td>33.96</td>\n",
       "      <td>150.00</td>\n",
       "      <td>0.00</td>\n",
       "      <td>0.00</td>\n",
       "    </tr>\n",
       "    <tr>\n",
       "      <th>3584</th>\n",
       "      <td>Matthew Chavez</td>\n",
       "      <td>01/01/2017 11:53:01 PM</td>\n",
       "      <td>01/01/2017 11:53:42 PM</td>\n",
       "      <td>Credit Card</td>\n",
       "      <td>1</td>\n",
       "      <td>7.30</td>\n",
       "      <td>150.00</td>\n",
       "      <td>0.00</td>\n",
       "      <td>0.00</td>\n",
       "    </tr>\n",
       "    <tr>\n",
       "      <th>8478</th>\n",
       "      <td>Alexis Hanson</td>\n",
       "      <td>02/06/2017 5:50:10 AM</td>\n",
       "      <td>02/06/2017 5:51:08 AM</td>\n",
       "      <td>Credit Card</td>\n",
       "      <td>1</td>\n",
       "      <td>2.60</td>\n",
       "      <td>150.00</td>\n",
       "      <td>200.00</td>\n",
       "      <td>0.00</td>\n",
       "    </tr>\n",
       "  </tbody>\n",
       "</table>\n",
       "<p>22499 rows × 9 columns</p>\n",
       "</div>"
      ],
      "text/plain": [
       "           passenger_name    tpep_pickup_datetime   tpep_dropoff_datetime  \\\n",
       "4063     Phillip Gonzalez   08/12/2017 8:49:29 PM   08/12/2017 9:18:50 PM   \n",
       "14470       Leah Carrillo   09/09/2017 1:29:37 PM   09/09/2017 1:29:57 PM   \n",
       "2987     Christine Harper   11/24/2017 4:32:18 AM   11/24/2017 4:32:23 AM   \n",
       "16351      Nathan Salazar   05/13/2017 5:42:22 PM   05/13/2017 5:42:45 PM   \n",
       "6702        Yvonne Brooks   08/26/2017 7:33:22 AM   08/26/2017 7:34:18 AM   \n",
       "...                   ...                     ...                     ...   \n",
       "16381     Erica Hernandez  11/30/2017 10:41:11 AM  11/30/2017 11:31:45 AM   \n",
       "13863       William Yates   05/19/2017 8:20:21 AM   05/19/2017 9:20:30 AM   \n",
       "9282   Samantha Frederick  06/18/2017 11:33:25 PM  06/19/2017 12:12:38 AM   \n",
       "3584       Matthew Chavez  01/01/2017 11:53:01 PM  01/01/2017 11:53:42 PM   \n",
       "8478        Alexis Hanson   02/06/2017 5:50:10 AM   02/06/2017 5:51:08 AM   \n",
       "\n",
       "      payment_method  passenger_count  trip_distance  fare_amount  tip_amount  \\\n",
       "4063            Cash                4           4.50         0.01        0.00   \n",
       "14470    Credit Card                3           0.02         2.50        0.00   \n",
       "2987     Credit Card                1           0.01         2.50        0.00   \n",
       "16351           Cash                1           0.02         2.50        0.00   \n",
       "6702      Debit Card                1           0.10         2.50        0.00   \n",
       "...              ...              ...            ...          ...         ...   \n",
       "16381           Cash                1          25.50       140.00        0.00   \n",
       "13863    Credit Card                1          33.92       150.00       51.64   \n",
       "9282            Cash                2          33.96       150.00        0.00   \n",
       "3584     Credit Card                1           7.30       150.00        0.00   \n",
       "8478     Credit Card                1           2.60       150.00      200.00   \n",
       "\n",
       "       tolls_amount  \n",
       "4063          10.50  \n",
       "14470          0.00  \n",
       "2987           0.00  \n",
       "16351          0.00  \n",
       "6702           0.00  \n",
       "...             ...  \n",
       "16381         16.26  \n",
       "13863          5.76  \n",
       "9282           0.00  \n",
       "3584           0.00  \n",
       "8478           0.00  \n",
       "\n",
       "[22499 rows x 9 columns]"
      ]
     },
     "execution_count": 228,
     "metadata": {},
     "output_type": "execute_result"
    }
   ],
   "source": [
    "data.sort_values('fare_amount')"
   ]
  },
  {
   "cell_type": "code",
   "execution_count": 229,
   "id": "d362c92e",
   "metadata": {},
   "outputs": [
    {
     "data": {
      "text/plain": [
       "<AxesSubplot:ylabel='tip_amount'>"
      ]
     },
     "execution_count": 229,
     "metadata": {},
     "output_type": "execute_result"
    },
    {
     "data": {
      "image/png": "[encoded data removed]",
      "text/plain": [
       "<Figure size 432x288 with 1 Axes>"
      ]
     },
     "metadata": {
      "needs_background": "light"
     },
     "output_type": "display_data"
    }
   ],
   "source": [
    "# Q. tip_amount의 scatter plot을 그립니다.\n",
    "\n",
    "sns.scatterplot(x = data.index , y = data['tip_amount'])"
   ]
  },
  {
   "cell_type": "code",
   "execution_count": 230,
   "id": "6a0dbe84",
   "metadata": {},
   "outputs": [
    {
     "data": {
      "text/plain": [
       "0        False\n",
       "1        False\n",
       "2        False\n",
       "3        False\n",
       "4        False\n",
       "         ...  \n",
       "22696    False\n",
       "22697    False\n",
       "22698    False\n",
       "22699    False\n",
       "22700    False\n",
       "Name: tip_amount, Length: 22499, dtype: bool"
      ]
     },
     "execution_count": 230,
     "metadata": {},
     "output_type": "execute_result"
    }
   ],
   "source": [
    "# Q. tip_amount의 이상치를 확인합니다.\n",
    "data['tip_amount'].isna()\n"
   ]
  },
  {
   "cell_type": "code",
   "execution_count": 231,
   "id": "d5fb1ee8",
   "metadata": {},
   "outputs": [
    {
     "data": {
      "text/plain": [
       "<AxesSubplot:ylabel='tip_amount'>"
      ]
     },
     "execution_count": 231,
     "metadata": {},
     "output_type": "execute_result"
    },
    {
     "data": {
      "image/png": "[encoded data removed]",
      "text/plain": [
       "<Figure size 432x288 with 1 Axes>"
      ]
     },
     "metadata": {
      "needs_background": "light"
     },
     "output_type": "display_data"
    }
   ],
   "source": [
    "# Q. tip_amount의 이상치를 제거합니다.\n",
    "\n",
    "def def_fucn(x):\n",
    "    if x > 75:\n",
    "        return 75\n",
    "    else:\n",
    "        return x \n",
    "data['tip_amount'].apply(def_fucn)\n",
    "sns.scatterplot(x = data.index , y = data['tip_amount'])\n"
   ]
  },
  {
   "cell_type": "code",
   "execution_count": 232,
   "id": "f416bf6b",
   "metadata": {},
   "outputs": [
    {
     "data": {
      "text/plain": [
       "22499"
      ]
     },
     "execution_count": 232,
     "metadata": {},
     "output_type": "execute_result"
    }
   ],
   "source": [
    "len(data)\n"
   ]
  },
  {
   "cell_type": "code",
   "execution_count": 233,
   "id": "303f3222",
   "metadata": {},
   "outputs": [
    {
     "data": {
      "text/plain": [
       "<AxesSubplot:ylabel='tolls_amount'>"
      ]
     },
     "execution_count": 233,
     "metadata": {},
     "output_type": "execute_result"
    },
    {
     "data": {
      "image/png": "[encoded data removed]",
      "text/plain": [
       "<Figure size 432x288 with 1 Axes>"
      ]
     },
     "metadata": {
      "needs_background": "light"
     },
     "output_type": "display_data"
    }
   ],
   "source": [
    "# Q. tolls_amount의 scatter plot을 그립니다.\n",
    "\n",
    "sns.scatterplot(x = data.index , y = data['tolls_amount'])"
   ]
  },
  {
   "cell_type": "code",
   "execution_count": 234,
   "id": "2ef8b971",
   "metadata": {},
   "outputs": [
    {
     "data": {
      "text/html": [
       "<div>\n",
       "<style scoped>\n",
       "    .dataframe tbody tr th:only-of-type {\n",
       "        vertical-align: middle;\n",
       "    }\n",
       "\n",
       "    .dataframe tbody tr th {\n",
       "        vertical-align: top;\n",
       "    }\n",
       "\n",
       "    .dataframe thead th {\n",
       "        text-align: right;\n",
       "    }\n",
       "</style>\n",
       "<table border=\"1\" class=\"dataframe\">\n",
       "  <thead>\n",
       "    <tr style=\"text-align: right;\">\n",
       "      <th></th>\n",
       "      <th>passenger_name</th>\n",
       "      <th>tpep_pickup_datetime</th>\n",
       "      <th>tpep_dropoff_datetime</th>\n",
       "      <th>payment_method</th>\n",
       "      <th>passenger_count</th>\n",
       "      <th>trip_distance</th>\n",
       "      <th>fare_amount</th>\n",
       "      <th>tip_amount</th>\n",
       "      <th>tolls_amount</th>\n",
       "    </tr>\n",
       "  </thead>\n",
       "  <tbody>\n",
       "    <tr>\n",
       "      <th>0</th>\n",
       "      <td>Pamela Duffy</td>\n",
       "      <td>03/25/2017 8:55:43 AM</td>\n",
       "      <td>03/25/2017 9:09:47 AM</td>\n",
       "      <td>Debit Card</td>\n",
       "      <td>6</td>\n",
       "      <td>3.34</td>\n",
       "      <td>13.00</td>\n",
       "      <td>2.76</td>\n",
       "      <td>0.00</td>\n",
       "    </tr>\n",
       "    <tr>\n",
       "      <th>1</th>\n",
       "      <td>Michelle Foster</td>\n",
       "      <td>04/11/2017 2:53:28 PM</td>\n",
       "      <td>04/11/2017 3:19:58 PM</td>\n",
       "      <td>Debit Card</td>\n",
       "      <td>1</td>\n",
       "      <td>1.80</td>\n",
       "      <td>16.00</td>\n",
       "      <td>4.00</td>\n",
       "      <td>0.00</td>\n",
       "    </tr>\n",
       "    <tr>\n",
       "      <th>2</th>\n",
       "      <td>Tina Combs</td>\n",
       "      <td>12/15/2017 7:26:56 AM</td>\n",
       "      <td>12/15/2017 7:34:08 AM</td>\n",
       "      <td>Debit Card</td>\n",
       "      <td>1</td>\n",
       "      <td>1.00</td>\n",
       "      <td>6.50</td>\n",
       "      <td>1.45</td>\n",
       "      <td>0.00</td>\n",
       "    </tr>\n",
       "    <tr>\n",
       "      <th>3</th>\n",
       "      <td>Anthony Ray</td>\n",
       "      <td>05/07/2017 1:17:59 PM</td>\n",
       "      <td>05/07/2017 1:48:14 PM</td>\n",
       "      <td>Cash</td>\n",
       "      <td>1</td>\n",
       "      <td>3.70</td>\n",
       "      <td>20.50</td>\n",
       "      <td>6.39</td>\n",
       "      <td>0.00</td>\n",
       "    </tr>\n",
       "    <tr>\n",
       "      <th>4</th>\n",
       "      <td>Brianna Johnson</td>\n",
       "      <td>04/15/2017 11:32:20 PM</td>\n",
       "      <td>04/15/2017 11:49:03 PM</td>\n",
       "      <td>Debit Card</td>\n",
       "      <td>1</td>\n",
       "      <td>4.37</td>\n",
       "      <td>16.50</td>\n",
       "      <td>0.00</td>\n",
       "      <td>0.00</td>\n",
       "    </tr>\n",
       "    <tr>\n",
       "      <th>5</th>\n",
       "      <td>Justin Smith</td>\n",
       "      <td>03/25/2017 8:34:11 PM</td>\n",
       "      <td>03/25/2017 8:42:11 PM</td>\n",
       "      <td>Debit Card</td>\n",
       "      <td>6</td>\n",
       "      <td>2.30</td>\n",
       "      <td>9.00</td>\n",
       "      <td>2.06</td>\n",
       "      <td>0.00</td>\n",
       "    </tr>\n",
       "    <tr>\n",
       "      <th>6</th>\n",
       "      <td>Tonya Moreno</td>\n",
       "      <td>05/03/2017 7:04:09 PM</td>\n",
       "      <td>05/03/2017 8:03:47 PM</td>\n",
       "      <td>Cash</td>\n",
       "      <td>1</td>\n",
       "      <td>12.83</td>\n",
       "      <td>47.50</td>\n",
       "      <td>9.86</td>\n",
       "      <td>0.00</td>\n",
       "    </tr>\n",
       "    <tr>\n",
       "      <th>7</th>\n",
       "      <td>Hannah Foley</td>\n",
       "      <td>08/15/2017 5:41:06 PM</td>\n",
       "      <td>08/15/2017 6:03:05 PM</td>\n",
       "      <td>Debit Card</td>\n",
       "      <td>1</td>\n",
       "      <td>2.98</td>\n",
       "      <td>16.00</td>\n",
       "      <td>1.78</td>\n",
       "      <td>0.00</td>\n",
       "    </tr>\n",
       "    <tr>\n",
       "      <th>8</th>\n",
       "      <td>Katie Whitney</td>\n",
       "      <td>02/04/2017 4:17:07 PM</td>\n",
       "      <td>02/04/2017 4:29:14 PM</td>\n",
       "      <td>Cash</td>\n",
       "      <td>1</td>\n",
       "      <td>1.20</td>\n",
       "      <td>9.00</td>\n",
       "      <td>0.00</td>\n",
       "      <td>0.00</td>\n",
       "    </tr>\n",
       "    <tr>\n",
       "      <th>9</th>\n",
       "      <td>Amanda Jones</td>\n",
       "      <td>11/10/2017 3:20:29 PM</td>\n",
       "      <td>11/10/2017 3:40:55 PM</td>\n",
       "      <td>Cash</td>\n",
       "      <td>1</td>\n",
       "      <td>1.60</td>\n",
       "      <td>13.00</td>\n",
       "      <td>2.75</td>\n",
       "      <td>0.00</td>\n",
       "    </tr>\n",
       "    <tr>\n",
       "      <th>10</th>\n",
       "      <td>Cory Jensen</td>\n",
       "      <td>03/04/2017 11:58:00 AM</td>\n",
       "      <td>03/04/2017 12:13:12 PM</td>\n",
       "      <td>Cash</td>\n",
       "      <td>1</td>\n",
       "      <td>1.77</td>\n",
       "      <td>11.50</td>\n",
       "      <td>2.46</td>\n",
       "      <td>0.00</td>\n",
       "    </tr>\n",
       "    <tr>\n",
       "      <th>11</th>\n",
       "      <td>Jamie Brown</td>\n",
       "      <td>03/05/2017 7:15:30 PM</td>\n",
       "      <td>03/05/2017 7:52:18 PM</td>\n",
       "      <td>Debit Card</td>\n",
       "      <td>2</td>\n",
       "      <td>18.90</td>\n",
       "      <td>52.00</td>\n",
       "      <td>14.58</td>\n",
       "      <td>5.54</td>\n",
       "    </tr>\n",
       "    <tr>\n",
       "      <th>12</th>\n",
       "      <td>Ryan Reyes</td>\n",
       "      <td>06/09/2017 7:00:26 PM</td>\n",
       "      <td>06/09/2017 7:20:11 PM</td>\n",
       "      <td>Debit Card</td>\n",
       "      <td>1</td>\n",
       "      <td>3.00</td>\n",
       "      <td>15.00</td>\n",
       "      <td>3.35</td>\n",
       "      <td>0.00</td>\n",
       "    </tr>\n",
       "    <tr>\n",
       "      <th>13</th>\n",
       "      <td>Jessica Mooney</td>\n",
       "      <td>11/06/2017 11:35:05 PM</td>\n",
       "      <td>11/06/2017 11:42:57 PM</td>\n",
       "      <td>Credit Card</td>\n",
       "      <td>1</td>\n",
       "      <td>2.39</td>\n",
       "      <td>9.50</td>\n",
       "      <td>2.16</td>\n",
       "      <td>0.00</td>\n",
       "    </tr>\n",
       "    <tr>\n",
       "      <th>14</th>\n",
       "      <td>Heidi May</td>\n",
       "      <td>02/22/2017 3:18:31 PM</td>\n",
       "      <td>02/22/2017 3:42:50 PM</td>\n",
       "      <td>Cash</td>\n",
       "      <td>1</td>\n",
       "      <td>3.30</td>\n",
       "      <td>17.50</td>\n",
       "      <td>4.55</td>\n",
       "      <td>0.00</td>\n",
       "    </tr>\n",
       "    <tr>\n",
       "      <th>15</th>\n",
       "      <td>Anthony Richard</td>\n",
       "      <td>06/02/2017 6:41:39 AM</td>\n",
       "      <td>06/02/2017 6:57:47 AM</td>\n",
       "      <td>Credit Card</td>\n",
       "      <td>1</td>\n",
       "      <td>5.93</td>\n",
       "      <td>19.00</td>\n",
       "      <td>3.00</td>\n",
       "      <td>0.00</td>\n",
       "    </tr>\n",
       "    <tr>\n",
       "      <th>16</th>\n",
       "      <td>Sarah Gross</td>\n",
       "      <td>08/15/2017 7:48:08 PM</td>\n",
       "      <td>08/15/2017 8:00:37 PM</td>\n",
       "      <td>Cash</td>\n",
       "      <td>1</td>\n",
       "      <td>3.60</td>\n",
       "      <td>12.50</td>\n",
       "      <td>2.85</td>\n",
       "      <td>0.00</td>\n",
       "    </tr>\n",
       "    <tr>\n",
       "      <th>18</th>\n",
       "      <td>Susan Robinson</td>\n",
       "      <td>07/10/2017 1:36:31 PM</td>\n",
       "      <td>07/10/2017 1:48:43 PM</td>\n",
       "      <td>Cash</td>\n",
       "      <td>2</td>\n",
       "      <td>1.71</td>\n",
       "      <td>9.50</td>\n",
       "      <td>0.00</td>\n",
       "      <td>0.00</td>\n",
       "    </tr>\n",
       "    <tr>\n",
       "      <th>19</th>\n",
       "      <td>Cynthia Mendoza</td>\n",
       "      <td>04/10/2017 6:12:58 PM</td>\n",
       "      <td>04/10/2017 6:17:39 PM</td>\n",
       "      <td>Cash</td>\n",
       "      <td>2</td>\n",
       "      <td>0.63</td>\n",
       "      <td>5.00</td>\n",
       "      <td>0.00</td>\n",
       "      <td>0.00</td>\n",
       "    </tr>\n",
       "    <tr>\n",
       "      <th>20</th>\n",
       "      <td>Zachary James</td>\n",
       "      <td>03/05/2017 4:01:07 AM</td>\n",
       "      <td>03/05/2017 4:14:11 AM</td>\n",
       "      <td>Credit Card</td>\n",
       "      <td>2</td>\n",
       "      <td>2.77</td>\n",
       "      <td>11.50</td>\n",
       "      <td>3.20</td>\n",
       "      <td>0.00</td>\n",
       "    </tr>\n",
       "    <tr>\n",
       "      <th>21</th>\n",
       "      <td>Marissa Scott</td>\n",
       "      <td>12/30/2017 11:52:44 PM</td>\n",
       "      <td>12/30/2017 11:58:57 PM</td>\n",
       "      <td>Debit Card</td>\n",
       "      <td>1</td>\n",
       "      <td>1.10</td>\n",
       "      <td>6.50</td>\n",
       "      <td>0.00</td>\n",
       "      <td>0.00</td>\n",
       "    </tr>\n",
       "    <tr>\n",
       "      <th>22</th>\n",
       "      <td>Jacqueline Mclean DVM</td>\n",
       "      <td>10/11/2017 12:34:49 PM</td>\n",
       "      <td>10/11/2017 1:22:38 PM</td>\n",
       "      <td>Debit Card</td>\n",
       "      <td>1</td>\n",
       "      <td>12.30</td>\n",
       "      <td>68.25</td>\n",
       "      <td>12.00</td>\n",
       "      <td>16.26</td>\n",
       "    </tr>\n",
       "    <tr>\n",
       "      <th>23</th>\n",
       "      <td>Krista Stewart</td>\n",
       "      <td>01/06/2017 8:12:07 PM</td>\n",
       "      <td>01/06/2017 8:18:37 PM</td>\n",
       "      <td>Cash</td>\n",
       "      <td>1</td>\n",
       "      <td>0.52</td>\n",
       "      <td>5.50</td>\n",
       "      <td>1.00</td>\n",
       "      <td>0.00</td>\n",
       "    </tr>\n",
       "    <tr>\n",
       "      <th>24</th>\n",
       "      <td>Mike Taylor</td>\n",
       "      <td>06/27/2017 12:08:22 AM</td>\n",
       "      <td>06/27/2017 12:13:45 AM</td>\n",
       "      <td>Credit Card</td>\n",
       "      <td>1</td>\n",
       "      <td>1.70</td>\n",
       "      <td>7.00</td>\n",
       "      <td>2.05</td>\n",
       "      <td>0.00</td>\n",
       "    </tr>\n",
       "    <tr>\n",
       "      <th>25</th>\n",
       "      <td>Heather Johnson</td>\n",
       "      <td>02/13/2017 10:29:33 AM</td>\n",
       "      <td>02/13/2017 10:34:11 AM</td>\n",
       "      <td>Cash</td>\n",
       "      <td>1</td>\n",
       "      <td>0.90</td>\n",
       "      <td>5.50</td>\n",
       "      <td>1.25</td>\n",
       "      <td>0.00</td>\n",
       "    </tr>\n",
       "    <tr>\n",
       "      <th>26</th>\n",
       "      <td>Tiffany Ramirez</td>\n",
       "      <td>01/14/2017 7:58:42 PM</td>\n",
       "      <td>01/14/2017 8:05:59 PM</td>\n",
       "      <td>Debit Card</td>\n",
       "      <td>1</td>\n",
       "      <td>1.72</td>\n",
       "      <td>8.00</td>\n",
       "      <td>2.79</td>\n",
       "      <td>0.00</td>\n",
       "    </tr>\n",
       "    <tr>\n",
       "      <th>27</th>\n",
       "      <td>James Taylor</td>\n",
       "      <td>11/04/2017 1:27:59 AM</td>\n",
       "      <td>11/04/2017 1:44:05 AM</td>\n",
       "      <td>Credit Card</td>\n",
       "      <td>1</td>\n",
       "      <td>2.70</td>\n",
       "      <td>13.00</td>\n",
       "      <td>2.85</td>\n",
       "      <td>0.00</td>\n",
       "    </tr>\n",
       "    <tr>\n",
       "      <th>28</th>\n",
       "      <td>Gabriela Bryan</td>\n",
       "      <td>11/24/2017 10:48:13 AM</td>\n",
       "      <td>11/24/2017 10:52:57 AM</td>\n",
       "      <td>Cash</td>\n",
       "      <td>1</td>\n",
       "      <td>0.85</td>\n",
       "      <td>5.50</td>\n",
       "      <td>0.00</td>\n",
       "      <td>0.00</td>\n",
       "    </tr>\n",
       "    <tr>\n",
       "      <th>29</th>\n",
       "      <td>Janet Hogan MD</td>\n",
       "      <td>11/22/2017 10:24:17 AM</td>\n",
       "      <td>11/22/2017 10:38:52 AM</td>\n",
       "      <td>Cash</td>\n",
       "      <td>1</td>\n",
       "      <td>2.30</td>\n",
       "      <td>11.00</td>\n",
       "      <td>2.35</td>\n",
       "      <td>0.00</td>\n",
       "    </tr>\n",
       "    <tr>\n",
       "      <th>30</th>\n",
       "      <td>David Burton</td>\n",
       "      <td>11/06/2017 8:30:50 PM</td>\n",
       "      <td>11/07/2017 12:00:00 AM</td>\n",
       "      <td>Credit Card</td>\n",
       "      <td>1</td>\n",
       "      <td>30.83</td>\n",
       "      <td>80.00</td>\n",
       "      <td>18.56</td>\n",
       "      <td>11.52</td>\n",
       "    </tr>\n",
       "  </tbody>\n",
       "</table>\n",
       "</div>"
      ],
      "text/plain": [
       "           passenger_name    tpep_pickup_datetime   tpep_dropoff_datetime  \\\n",
       "0            Pamela Duffy   03/25/2017 8:55:43 AM   03/25/2017 9:09:47 AM   \n",
       "1         Michelle Foster   04/11/2017 2:53:28 PM   04/11/2017 3:19:58 PM   \n",
       "2              Tina Combs   12/15/2017 7:26:56 AM   12/15/2017 7:34:08 AM   \n",
       "3             Anthony Ray   05/07/2017 1:17:59 PM   05/07/2017 1:48:14 PM   \n",
       "4         Brianna Johnson  04/15/2017 11:32:20 PM  04/15/2017 11:49:03 PM   \n",
       "5            Justin Smith   03/25/2017 8:34:11 PM   03/25/2017 8:42:11 PM   \n",
       "6            Tonya Moreno   05/03/2017 7:04:09 PM   05/03/2017 8:03:47 PM   \n",
       "7            Hannah Foley   08/15/2017 5:41:06 PM   08/15/2017 6:03:05 PM   \n",
       "8           Katie Whitney   02/04/2017 4:17:07 PM   02/04/2017 4:29:14 PM   \n",
       "9            Amanda Jones   11/10/2017 3:20:29 PM   11/10/2017 3:40:55 PM   \n",
       "10            Cory Jensen  03/04/2017 11:58:00 AM  03/04/2017 12:13:12 PM   \n",
       "11            Jamie Brown   03/05/2017 7:15:30 PM   03/05/2017 7:52:18 PM   \n",
       "12             Ryan Reyes   06/09/2017 7:00:26 PM   06/09/2017 7:20:11 PM   \n",
       "13         Jessica Mooney  11/06/2017 11:35:05 PM  11/06/2017 11:42:57 PM   \n",
       "14              Heidi May   02/22/2017 3:18:31 PM   02/22/2017 3:42:50 PM   \n",
       "15        Anthony Richard   06/02/2017 6:41:39 AM   06/02/2017 6:57:47 AM   \n",
       "16            Sarah Gross   08/15/2017 7:48:08 PM   08/15/2017 8:00:37 PM   \n",
       "18         Susan Robinson   07/10/2017 1:36:31 PM   07/10/2017 1:48:43 PM   \n",
       "19        Cynthia Mendoza   04/10/2017 6:12:58 PM   04/10/2017 6:17:39 PM   \n",
       "20          Zachary James   03/05/2017 4:01:07 AM   03/05/2017 4:14:11 AM   \n",
       "21          Marissa Scott  12/30/2017 11:52:44 PM  12/30/2017 11:58:57 PM   \n",
       "22  Jacqueline Mclean DVM  10/11/2017 12:34:49 PM   10/11/2017 1:22:38 PM   \n",
       "23         Krista Stewart   01/06/2017 8:12:07 PM   01/06/2017 8:18:37 PM   \n",
       "24            Mike Taylor  06/27/2017 12:08:22 AM  06/27/2017 12:13:45 AM   \n",
       "25        Heather Johnson  02/13/2017 10:29:33 AM  02/13/2017 10:34:11 AM   \n",
       "26        Tiffany Ramirez   01/14/2017 7:58:42 PM   01/14/2017 8:05:59 PM   \n",
       "27           James Taylor   11/04/2017 1:27:59 AM   11/04/2017 1:44:05 AM   \n",
       "28         Gabriela Bryan  11/24/2017 10:48:13 AM  11/24/2017 10:52:57 AM   \n",
       "29         Janet Hogan MD  11/22/2017 10:24:17 AM  11/22/2017 10:38:52 AM   \n",
       "30           David Burton   11/06/2017 8:30:50 PM  11/07/2017 12:00:00 AM   \n",
       "\n",
       "   payment_method  passenger_count  trip_distance  fare_amount  tip_amount  \\\n",
       "0      Debit Card                6           3.34        13.00        2.76   \n",
       "1      Debit Card                1           1.80        16.00        4.00   \n",
       "2      Debit Card                1           1.00         6.50        1.45   \n",
       "3            Cash                1           3.70        20.50        6.39   \n",
       "4      Debit Card                1           4.37        16.50        0.00   \n",
       "5      Debit Card                6           2.30         9.00        2.06   \n",
       "6            Cash                1          12.83        47.50        9.86   \n",
       "7      Debit Card                1           2.98        16.00        1.78   \n",
       "8            Cash                1           1.20         9.00        0.00   \n",
       "9            Cash                1           1.60        13.00        2.75   \n",
       "10           Cash                1           1.77        11.50        2.46   \n",
       "11     Debit Card                2          18.90        52.00       14.58   \n",
       "12     Debit Card                1           3.00        15.00        3.35   \n",
       "13    Credit Card                1           2.39         9.50        2.16   \n",
       "14           Cash                1           3.30        17.50        4.55   \n",
       "15    Credit Card                1           5.93        19.00        3.00   \n",
       "16           Cash                1           3.60        12.50        2.85   \n",
       "18           Cash                2           1.71         9.50        0.00   \n",
       "19           Cash                2           0.63         5.00        0.00   \n",
       "20    Credit Card                2           2.77        11.50        3.20   \n",
       "21     Debit Card                1           1.10         6.50        0.00   \n",
       "22     Debit Card                1          12.30        68.25       12.00   \n",
       "23           Cash                1           0.52         5.50        1.00   \n",
       "24    Credit Card                1           1.70         7.00        2.05   \n",
       "25           Cash                1           0.90         5.50        1.25   \n",
       "26     Debit Card                1           1.72         8.00        2.79   \n",
       "27    Credit Card                1           2.70        13.00        2.85   \n",
       "28           Cash                1           0.85         5.50        0.00   \n",
       "29           Cash                1           2.30        11.00        2.35   \n",
       "30    Credit Card                1          30.83        80.00       18.56   \n",
       "\n",
       "    tolls_amount  \n",
       "0           0.00  \n",
       "1           0.00  \n",
       "2           0.00  \n",
       "3           0.00  \n",
       "4           0.00  \n",
       "5           0.00  \n",
       "6           0.00  \n",
       "7           0.00  \n",
       "8           0.00  \n",
       "9           0.00  \n",
       "10          0.00  \n",
       "11          5.54  \n",
       "12          0.00  \n",
       "13          0.00  \n",
       "14          0.00  \n",
       "15          0.00  \n",
       "16          0.00  \n",
       "18          0.00  \n",
       "19          0.00  \n",
       "20          0.00  \n",
       "21          0.00  \n",
       "22         16.26  \n",
       "23          0.00  \n",
       "24          0.00  \n",
       "25          0.00  \n",
       "26          0.00  \n",
       "27          0.00  \n",
       "28          0.00  \n",
       "29          0.00  \n",
       "30         11.52  "
      ]
     },
     "execution_count": 234,
     "metadata": {},
     "output_type": "execute_result"
    }
   ],
   "source": [
    "data.head(30)"
   ]
  },
  {
   "cell_type": "code",
   "execution_count": 235,
   "id": "792f4cc5",
   "metadata": {},
   "outputs": [
    {
     "data": {
      "text/plain": [
       "array(['Debit Card', 'Cash', 'Credit Card'], dtype=object)"
      ]
     },
     "execution_count": 235,
     "metadata": {},
     "output_type": "execute_result"
    }
   ],
   "source": [
    "# payment_method 컬럼에 어떤 값들이 있는지 살펴봅시다.\n",
    "\n",
    "data['payment_method'].unique()"
   ]
  },
  {
   "cell_type": "code",
   "execution_count": 236,
   "id": "a0d23a51",
   "metadata": {},
   "outputs": [
    {
     "data": {
      "text/plain": [
       "3"
      ]
     },
     "execution_count": 236,
     "metadata": {},
     "output_type": "execute_result"
    }
   ],
   "source": [
    "data['payment_method'].nunique()"
   ]
  },
  {
   "cell_type": "code",
   "execution_count": 237,
   "id": "292c58d1",
   "metadata": {},
   "outputs": [
    {
     "data": {
      "text/plain": [
       "Cash           11095\n",
       "Debit Card      5730\n",
       "Credit Card     5674\n",
       "Name: payment_method, dtype: int64"
      ]
     },
     "execution_count": 237,
     "metadata": {},
     "output_type": "execute_result"
    }
   ],
   "source": [
    "data['payment_method'].value_counts()"
   ]
  },
  {
   "cell_type": "code",
   "execution_count": 238,
   "id": "73bd67f7",
   "metadata": {},
   "outputs": [],
   "source": [
    "# Q. 'Debit Card'와 'Credit Card' 항목을 'Card'로 변환합니다. \n",
    "# (힌트: replace() 메서드를 사용합니다.)\n",
    "\n",
    "data['payment_method'] = data['payment_method'].replace({'Debit Card':'Card','Credit Card':'Card'})"
   ]
  },
  {
   "cell_type": "code",
   "execution_count": 239,
   "id": "829ce81f",
   "metadata": {},
   "outputs": [
    {
     "data": {
      "text/plain": [
       "Card    11404\n",
       "Cash    11095\n",
       "Name: payment_method, dtype: int64"
      ]
     },
     "execution_count": 239,
     "metadata": {},
     "output_type": "execute_result"
    }
   ],
   "source": [
    "data['payment_method'].value_counts()"
   ]
  },
  {
   "cell_type": "code",
   "execution_count": 240,
   "id": "b1bf0561",
   "metadata": {},
   "outputs": [],
   "source": [
    "example = 'Susan Robinson'"
   ]
  },
  {
   "cell_type": "code",
   "execution_count": 241,
   "id": "fcaf960a",
   "metadata": {},
   "outputs": [
    {
     "data": {
      "text/plain": [
       "['Susan', 'Robinson']"
      ]
     },
     "execution_count": 241,
     "metadata": {},
     "output_type": "execute_result"
    }
   ],
   "source": [
    "example.split()"
   ]
  },
  {
   "cell_type": "code",
   "execution_count": 242,
   "id": "ab5203f1",
   "metadata": {},
   "outputs": [
    {
     "name": "stdout",
     "output_type": "stream",
     "text": [
      "<class 'pandas.core.frame.DataFrame'>\n",
      "Int64Index: 22499 entries, 0 to 22700\n",
      "Data columns (total 9 columns):\n",
      " #   Column                 Non-Null Count  Dtype  \n",
      "---  ------                 --------------  -----  \n",
      " 0   passenger_name         22499 non-null  object \n",
      " 1   tpep_pickup_datetime   22499 non-null  object \n",
      " 2   tpep_dropoff_datetime  22499 non-null  object \n",
      " 3   payment_method         22499 non-null  object \n",
      " 4   passenger_count        22499 non-null  int64  \n",
      " 5   trip_distance          22499 non-null  float64\n",
      " 6   fare_amount            22499 non-null  float64\n",
      " 7   tip_amount             22499 non-null  float64\n",
      " 8   tolls_amount           22499 non-null  float64\n",
      "dtypes: float64(4), int64(1), object(4)\n",
      "memory usage: 1.7+ MB\n"
     ]
    }
   ],
   "source": [
    "# Q. passenger_name을 성과 이름으로 분리하여 성 부분만 passenger_first_name 컬럼으로 저장합니다.\n",
    "\n",
    "data.info()\n",
    "data['passenger_first_name'] = data['passenger_name'].str.split(expand = True)[0]"
   ]
  },
  {
   "cell_type": "code",
   "execution_count": 243,
   "id": "616e1b57",
   "metadata": {},
   "outputs": [
    {
     "data": {
      "text/html": [
       "<div>\n",
       "<style scoped>\n",
       "    .dataframe tbody tr th:only-of-type {\n",
       "        vertical-align: middle;\n",
       "    }\n",
       "\n",
       "    .dataframe tbody tr th {\n",
       "        vertical-align: top;\n",
       "    }\n",
       "\n",
       "    .dataframe thead th {\n",
       "        text-align: right;\n",
       "    }\n",
       "</style>\n",
       "<table border=\"1\" class=\"dataframe\">\n",
       "  <thead>\n",
       "    <tr style=\"text-align: right;\">\n",
       "      <th></th>\n",
       "      <th>passenger_name</th>\n",
       "      <th>tpep_pickup_datetime</th>\n",
       "      <th>tpep_dropoff_datetime</th>\n",
       "      <th>payment_method</th>\n",
       "      <th>passenger_count</th>\n",
       "      <th>trip_distance</th>\n",
       "      <th>fare_amount</th>\n",
       "      <th>tip_amount</th>\n",
       "      <th>tolls_amount</th>\n",
       "      <th>passenger_first_name</th>\n",
       "    </tr>\n",
       "  </thead>\n",
       "  <tbody>\n",
       "    <tr>\n",
       "      <th>0</th>\n",
       "      <td>Pamela Duffy</td>\n",
       "      <td>03/25/2017 8:55:43 AM</td>\n",
       "      <td>03/25/2017 9:09:47 AM</td>\n",
       "      <td>Card</td>\n",
       "      <td>6</td>\n",
       "      <td>3.34</td>\n",
       "      <td>13.0</td>\n",
       "      <td>2.76</td>\n",
       "      <td>0.0</td>\n",
       "      <td>Pamela</td>\n",
       "    </tr>\n",
       "    <tr>\n",
       "      <th>1</th>\n",
       "      <td>Michelle Foster</td>\n",
       "      <td>04/11/2017 2:53:28 PM</td>\n",
       "      <td>04/11/2017 3:19:58 PM</td>\n",
       "      <td>Card</td>\n",
       "      <td>1</td>\n",
       "      <td>1.80</td>\n",
       "      <td>16.0</td>\n",
       "      <td>4.00</td>\n",
       "      <td>0.0</td>\n",
       "      <td>Michelle</td>\n",
       "    </tr>\n",
       "    <tr>\n",
       "      <th>2</th>\n",
       "      <td>Tina Combs</td>\n",
       "      <td>12/15/2017 7:26:56 AM</td>\n",
       "      <td>12/15/2017 7:34:08 AM</td>\n",
       "      <td>Card</td>\n",
       "      <td>1</td>\n",
       "      <td>1.00</td>\n",
       "      <td>6.5</td>\n",
       "      <td>1.45</td>\n",
       "      <td>0.0</td>\n",
       "      <td>Tina</td>\n",
       "    </tr>\n",
       "    <tr>\n",
       "      <th>3</th>\n",
       "      <td>Anthony Ray</td>\n",
       "      <td>05/07/2017 1:17:59 PM</td>\n",
       "      <td>05/07/2017 1:48:14 PM</td>\n",
       "      <td>Cash</td>\n",
       "      <td>1</td>\n",
       "      <td>3.70</td>\n",
       "      <td>20.5</td>\n",
       "      <td>6.39</td>\n",
       "      <td>0.0</td>\n",
       "      <td>Anthony</td>\n",
       "    </tr>\n",
       "    <tr>\n",
       "      <th>4</th>\n",
       "      <td>Brianna Johnson</td>\n",
       "      <td>04/15/2017 11:32:20 PM</td>\n",
       "      <td>04/15/2017 11:49:03 PM</td>\n",
       "      <td>Card</td>\n",
       "      <td>1</td>\n",
       "      <td>4.37</td>\n",
       "      <td>16.5</td>\n",
       "      <td>0.00</td>\n",
       "      <td>0.0</td>\n",
       "      <td>Brianna</td>\n",
       "    </tr>\n",
       "  </tbody>\n",
       "</table>\n",
       "</div>"
      ],
      "text/plain": [
       "    passenger_name    tpep_pickup_datetime   tpep_dropoff_datetime  \\\n",
       "0     Pamela Duffy   03/25/2017 8:55:43 AM   03/25/2017 9:09:47 AM   \n",
       "1  Michelle Foster   04/11/2017 2:53:28 PM   04/11/2017 3:19:58 PM   \n",
       "2       Tina Combs   12/15/2017 7:26:56 AM   12/15/2017 7:34:08 AM   \n",
       "3      Anthony Ray   05/07/2017 1:17:59 PM   05/07/2017 1:48:14 PM   \n",
       "4  Brianna Johnson  04/15/2017 11:32:20 PM  04/15/2017 11:49:03 PM   \n",
       "\n",
       "  payment_method  passenger_count  trip_distance  fare_amount  tip_amount  \\\n",
       "0           Card                6           3.34         13.0        2.76   \n",
       "1           Card                1           1.80         16.0        4.00   \n",
       "2           Card                1           1.00          6.5        1.45   \n",
       "3           Cash                1           3.70         20.5        6.39   \n",
       "4           Card                1           4.37         16.5        0.00   \n",
       "\n",
       "   tolls_amount passenger_first_name  \n",
       "0           0.0               Pamela  \n",
       "1           0.0             Michelle  \n",
       "2           0.0                 Tina  \n",
       "3           0.0              Anthony  \n",
       "4           0.0              Brianna  "
      ]
     },
     "execution_count": 243,
     "metadata": {},
     "output_type": "execute_result"
    }
   ],
   "source": [
    "data.head()"
   ]
  },
  {
   "cell_type": "code",
   "execution_count": 244,
   "id": "489527eb",
   "metadata": {},
   "outputs": [
    {
     "name": "stdout",
     "output_type": "stream",
     "text": [
      "<class 'pandas.core.frame.DataFrame'>\n",
      "Int64Index: 22499 entries, 0 to 22700\n",
      "Data columns (total 10 columns):\n",
      " #   Column                 Non-Null Count  Dtype  \n",
      "---  ------                 --------------  -----  \n",
      " 0   passenger_name         22499 non-null  object \n",
      " 1   tpep_pickup_datetime   22499 non-null  object \n",
      " 2   tpep_dropoff_datetime  22499 non-null  object \n",
      " 3   payment_method         22499 non-null  object \n",
      " 4   passenger_count        22499 non-null  int64  \n",
      " 5   trip_distance          22499 non-null  float64\n",
      " 6   fare_amount            22499 non-null  float64\n",
      " 7   tip_amount             22499 non-null  float64\n",
      " 8   tolls_amount           22499 non-null  float64\n",
      " 9   passenger_first_name   22499 non-null  object \n",
      "dtypes: float64(4), int64(1), object(5)\n",
      "memory usage: 1.9+ MB\n"
     ]
    }
   ],
   "source": [
    "data.info()"
   ]
  },
  {
   "cell_type": "code",
   "execution_count": 245,
   "id": "7070b95f",
   "metadata": {},
   "outputs": [],
   "source": [
    "# Q. tpep_pickup_datetime 컬럼의 object 자료형을 datetime으로 변환합니다.\n",
    "\n",
    "data['tpep_pickup_datetime'] = pd.to_datetime(data['tpep_pickup_datetime'])\n"
   ]
  },
  {
   "cell_type": "code",
   "execution_count": 246,
   "id": "a2c7c4b5",
   "metadata": {},
   "outputs": [],
   "source": [
    "# Q. tpep_dropoff_datetime 컬럼의 object 자료형을 datetime으로 변환합니다.\n",
    "\n",
    "data['tpep_dropoff_datetime'] = pd.to_datetime(data['tpep_dropoff_datetime'])\n"
   ]
  },
  {
   "cell_type": "code",
   "execution_count": 247,
   "id": "31fb2b7d",
   "metadata": {},
   "outputs": [
    {
     "name": "stdout",
     "output_type": "stream",
     "text": [
      "<class 'pandas.core.frame.DataFrame'>\n",
      "Int64Index: 22499 entries, 0 to 22700\n",
      "Data columns (total 10 columns):\n",
      " #   Column                 Non-Null Count  Dtype         \n",
      "---  ------                 --------------  -----         \n",
      " 0   passenger_name         22499 non-null  object        \n",
      " 1   tpep_pickup_datetime   22499 non-null  datetime64[ns]\n",
      " 2   tpep_dropoff_datetime  22499 non-null  datetime64[ns]\n",
      " 3   payment_method         22499 non-null  object        \n",
      " 4   passenger_count        22499 non-null  int64         \n",
      " 5   trip_distance          22499 non-null  float64       \n",
      " 6   fare_amount            22499 non-null  float64       \n",
      " 7   tip_amount             22499 non-null  float64       \n",
      " 8   tolls_amount           22499 non-null  float64       \n",
      " 9   passenger_first_name   22499 non-null  object        \n",
      "dtypes: datetime64[ns](2), float64(4), int64(1), object(3)\n",
      "memory usage: 1.9+ MB\n"
     ]
    }
   ],
   "source": [
    "data.info()"
   ]
  },
  {
   "cell_type": "code",
   "execution_count": 248,
   "id": "3bd23b95",
   "metadata": {},
   "outputs": [],
   "source": [
    "# Q. 하차 시각과 승차 시각의 차이를 travel_time 컬럼으로 저장합니다.\n",
    "\n",
    "data['travel_time'] = data['tpep_dropoff_datetime'] - data['tpep_pickup_datetime']"
   ]
  },
  {
   "cell_type": "code",
   "execution_count": 249,
   "id": "73d20e7d",
   "metadata": {},
   "outputs": [
    {
     "data": {
      "text/html": [
       "<div>\n",
       "<style scoped>\n",
       "    .dataframe tbody tr th:only-of-type {\n",
       "        vertical-align: middle;\n",
       "    }\n",
       "\n",
       "    .dataframe tbody tr th {\n",
       "        vertical-align: top;\n",
       "    }\n",
       "\n",
       "    .dataframe thead th {\n",
       "        text-align: right;\n",
       "    }\n",
       "</style>\n",
       "<table border=\"1\" class=\"dataframe\">\n",
       "  <thead>\n",
       "    <tr style=\"text-align: right;\">\n",
       "      <th></th>\n",
       "      <th>passenger_name</th>\n",
       "      <th>tpep_pickup_datetime</th>\n",
       "      <th>tpep_dropoff_datetime</th>\n",
       "      <th>payment_method</th>\n",
       "      <th>passenger_count</th>\n",
       "      <th>trip_distance</th>\n",
       "      <th>fare_amount</th>\n",
       "      <th>tip_amount</th>\n",
       "      <th>tolls_amount</th>\n",
       "      <th>passenger_first_name</th>\n",
       "      <th>travel_time</th>\n",
       "    </tr>\n",
       "  </thead>\n",
       "  <tbody>\n",
       "    <tr>\n",
       "      <th>0</th>\n",
       "      <td>Pamela Duffy</td>\n",
       "      <td>2017-03-25 08:55:43</td>\n",
       "      <td>2017-03-25 09:09:47</td>\n",
       "      <td>Card</td>\n",
       "      <td>6</td>\n",
       "      <td>3.34</td>\n",
       "      <td>13.0</td>\n",
       "      <td>2.76</td>\n",
       "      <td>0.0</td>\n",
       "      <td>Pamela</td>\n",
       "      <td>0 days 00:14:04</td>\n",
       "    </tr>\n",
       "    <tr>\n",
       "      <th>1</th>\n",
       "      <td>Michelle Foster</td>\n",
       "      <td>2017-04-11 14:53:28</td>\n",
       "      <td>2017-04-11 15:19:58</td>\n",
       "      <td>Card</td>\n",
       "      <td>1</td>\n",
       "      <td>1.80</td>\n",
       "      <td>16.0</td>\n",
       "      <td>4.00</td>\n",
       "      <td>0.0</td>\n",
       "      <td>Michelle</td>\n",
       "      <td>0 days 00:26:30</td>\n",
       "    </tr>\n",
       "    <tr>\n",
       "      <th>2</th>\n",
       "      <td>Tina Combs</td>\n",
       "      <td>2017-12-15 07:26:56</td>\n",
       "      <td>2017-12-15 07:34:08</td>\n",
       "      <td>Card</td>\n",
       "      <td>1</td>\n",
       "      <td>1.00</td>\n",
       "      <td>6.5</td>\n",
       "      <td>1.45</td>\n",
       "      <td>0.0</td>\n",
       "      <td>Tina</td>\n",
       "      <td>0 days 00:07:12</td>\n",
       "    </tr>\n",
       "    <tr>\n",
       "      <th>3</th>\n",
       "      <td>Anthony Ray</td>\n",
       "      <td>2017-05-07 13:17:59</td>\n",
       "      <td>2017-05-07 13:48:14</td>\n",
       "      <td>Cash</td>\n",
       "      <td>1</td>\n",
       "      <td>3.70</td>\n",
       "      <td>20.5</td>\n",
       "      <td>6.39</td>\n",
       "      <td>0.0</td>\n",
       "      <td>Anthony</td>\n",
       "      <td>0 days 00:30:15</td>\n",
       "    </tr>\n",
       "    <tr>\n",
       "      <th>4</th>\n",
       "      <td>Brianna Johnson</td>\n",
       "      <td>2017-04-15 23:32:20</td>\n",
       "      <td>2017-04-15 23:49:03</td>\n",
       "      <td>Card</td>\n",
       "      <td>1</td>\n",
       "      <td>4.37</td>\n",
       "      <td>16.5</td>\n",
       "      <td>0.00</td>\n",
       "      <td>0.0</td>\n",
       "      <td>Brianna</td>\n",
       "      <td>0 days 00:16:43</td>\n",
       "    </tr>\n",
       "  </tbody>\n",
       "</table>\n",
       "</div>"
      ],
      "text/plain": [
       "    passenger_name tpep_pickup_datetime tpep_dropoff_datetime payment_method  \\\n",
       "0     Pamela Duffy  2017-03-25 08:55:43   2017-03-25 09:09:47           Card   \n",
       "1  Michelle Foster  2017-04-11 14:53:28   2017-04-11 15:19:58           Card   \n",
       "2       Tina Combs  2017-12-15 07:26:56   2017-12-15 07:34:08           Card   \n",
       "3      Anthony Ray  2017-05-07 13:17:59   2017-05-07 13:48:14           Cash   \n",
       "4  Brianna Johnson  2017-04-15 23:32:20   2017-04-15 23:49:03           Card   \n",
       "\n",
       "   passenger_count  trip_distance  fare_amount  tip_amount  tolls_amount  \\\n",
       "0                6           3.34         13.0        2.76           0.0   \n",
       "1                1           1.80         16.0        4.00           0.0   \n",
       "2                1           1.00          6.5        1.45           0.0   \n",
       "3                1           3.70         20.5        6.39           0.0   \n",
       "4                1           4.37         16.5        0.00           0.0   \n",
       "\n",
       "  passenger_first_name     travel_time  \n",
       "0               Pamela 0 days 00:14:04  \n",
       "1             Michelle 0 days 00:26:30  \n",
       "2                 Tina 0 days 00:07:12  \n",
       "3              Anthony 0 days 00:30:15  \n",
       "4              Brianna 0 days 00:16:43  "
      ]
     },
     "execution_count": 249,
     "metadata": {},
     "output_type": "execute_result"
    }
   ],
   "source": [
    "data.head()"
   ]
  },
  {
   "cell_type": "code",
   "execution_count": 250,
   "id": "1753d702",
   "metadata": {},
   "outputs": [
    {
     "name": "stdout",
     "output_type": "stream",
     "text": [
      "<class 'pandas.core.frame.DataFrame'>\n",
      "Int64Index: 22499 entries, 0 to 22700\n",
      "Data columns (total 11 columns):\n",
      " #   Column                 Non-Null Count  Dtype          \n",
      "---  ------                 --------------  -----          \n",
      " 0   passenger_name         22499 non-null  object         \n",
      " 1   tpep_pickup_datetime   22499 non-null  datetime64[ns] \n",
      " 2   tpep_dropoff_datetime  22499 non-null  datetime64[ns] \n",
      " 3   payment_method         22499 non-null  object         \n",
      " 4   passenger_count        22499 non-null  int64          \n",
      " 5   trip_distance          22499 non-null  float64        \n",
      " 6   fare_amount            22499 non-null  float64        \n",
      " 7   tip_amount             22499 non-null  float64        \n",
      " 8   tolls_amount           22499 non-null  float64        \n",
      " 9   passenger_first_name   22499 non-null  object         \n",
      " 10  travel_time            22499 non-null  timedelta64[ns]\n",
      "dtypes: datetime64[ns](2), float64(4), int64(1), object(3), timedelta64[ns](1)\n",
      "memory usage: 2.1+ MB\n"
     ]
    }
   ],
   "source": [
    "data.info()"
   ]
  },
  {
   "cell_type": "code",
   "execution_count": 251,
   "id": "87f0593e",
   "metadata": {},
   "outputs": [],
   "source": [
    "# Q. travel_time 컬럼의 데이터를 초 단위로 변환합니다.\n",
    "\n",
    "data['travel_time_seconds'] = data['travel_time'].dt.total_seconds().astype(int)"
   ]
  },
  {
   "cell_type": "code",
   "execution_count": 252,
   "id": "c6e9793a",
   "metadata": {},
   "outputs": [
    {
     "data": {
      "text/html": [
       "<div>\n",
       "<style scoped>\n",
       "    .dataframe tbody tr th:only-of-type {\n",
       "        vertical-align: middle;\n",
       "    }\n",
       "\n",
       "    .dataframe tbody tr th {\n",
       "        vertical-align: top;\n",
       "    }\n",
       "\n",
       "    .dataframe thead th {\n",
       "        text-align: right;\n",
       "    }\n",
       "</style>\n",
       "<table border=\"1\" class=\"dataframe\">\n",
       "  <thead>\n",
       "    <tr style=\"text-align: right;\">\n",
       "      <th></th>\n",
       "      <th>passenger_name</th>\n",
       "      <th>tpep_pickup_datetime</th>\n",
       "      <th>tpep_dropoff_datetime</th>\n",
       "      <th>payment_method</th>\n",
       "      <th>passenger_count</th>\n",
       "      <th>trip_distance</th>\n",
       "      <th>fare_amount</th>\n",
       "      <th>tip_amount</th>\n",
       "      <th>tolls_amount</th>\n",
       "      <th>passenger_first_name</th>\n",
       "      <th>travel_time</th>\n",
       "      <th>travel_time_seconds</th>\n",
       "    </tr>\n",
       "  </thead>\n",
       "  <tbody>\n",
       "    <tr>\n",
       "      <th>0</th>\n",
       "      <td>Pamela Duffy</td>\n",
       "      <td>2017-03-25 08:55:43</td>\n",
       "      <td>2017-03-25 09:09:47</td>\n",
       "      <td>Card</td>\n",
       "      <td>6</td>\n",
       "      <td>3.34</td>\n",
       "      <td>13.0</td>\n",
       "      <td>2.76</td>\n",
       "      <td>0.0</td>\n",
       "      <td>Pamela</td>\n",
       "      <td>0 days 00:14:04</td>\n",
       "      <td>844</td>\n",
       "    </tr>\n",
       "    <tr>\n",
       "      <th>1</th>\n",
       "      <td>Michelle Foster</td>\n",
       "      <td>2017-04-11 14:53:28</td>\n",
       "      <td>2017-04-11 15:19:58</td>\n",
       "      <td>Card</td>\n",
       "      <td>1</td>\n",
       "      <td>1.80</td>\n",
       "      <td>16.0</td>\n",
       "      <td>4.00</td>\n",
       "      <td>0.0</td>\n",
       "      <td>Michelle</td>\n",
       "      <td>0 days 00:26:30</td>\n",
       "      <td>1590</td>\n",
       "    </tr>\n",
       "    <tr>\n",
       "      <th>2</th>\n",
       "      <td>Tina Combs</td>\n",
       "      <td>2017-12-15 07:26:56</td>\n",
       "      <td>2017-12-15 07:34:08</td>\n",
       "      <td>Card</td>\n",
       "      <td>1</td>\n",
       "      <td>1.00</td>\n",
       "      <td>6.5</td>\n",
       "      <td>1.45</td>\n",
       "      <td>0.0</td>\n",
       "      <td>Tina</td>\n",
       "      <td>0 days 00:07:12</td>\n",
       "      <td>432</td>\n",
       "    </tr>\n",
       "    <tr>\n",
       "      <th>3</th>\n",
       "      <td>Anthony Ray</td>\n",
       "      <td>2017-05-07 13:17:59</td>\n",
       "      <td>2017-05-07 13:48:14</td>\n",
       "      <td>Cash</td>\n",
       "      <td>1</td>\n",
       "      <td>3.70</td>\n",
       "      <td>20.5</td>\n",
       "      <td>6.39</td>\n",
       "      <td>0.0</td>\n",
       "      <td>Anthony</td>\n",
       "      <td>0 days 00:30:15</td>\n",
       "      <td>1815</td>\n",
       "    </tr>\n",
       "    <tr>\n",
       "      <th>4</th>\n",
       "      <td>Brianna Johnson</td>\n",
       "      <td>2017-04-15 23:32:20</td>\n",
       "      <td>2017-04-15 23:49:03</td>\n",
       "      <td>Card</td>\n",
       "      <td>1</td>\n",
       "      <td>4.37</td>\n",
       "      <td>16.5</td>\n",
       "      <td>0.00</td>\n",
       "      <td>0.0</td>\n",
       "      <td>Brianna</td>\n",
       "      <td>0 days 00:16:43</td>\n",
       "      <td>1003</td>\n",
       "    </tr>\n",
       "  </tbody>\n",
       "</table>\n",
       "</div>"
      ],
      "text/plain": [
       "    passenger_name tpep_pickup_datetime tpep_dropoff_datetime payment_method  \\\n",
       "0     Pamela Duffy  2017-03-25 08:55:43   2017-03-25 09:09:47           Card   \n",
       "1  Michelle Foster  2017-04-11 14:53:28   2017-04-11 15:19:58           Card   \n",
       "2       Tina Combs  2017-12-15 07:26:56   2017-12-15 07:34:08           Card   \n",
       "3      Anthony Ray  2017-05-07 13:17:59   2017-05-07 13:48:14           Cash   \n",
       "4  Brianna Johnson  2017-04-15 23:32:20   2017-04-15 23:49:03           Card   \n",
       "\n",
       "   passenger_count  trip_distance  fare_amount  tip_amount  tolls_amount  \\\n",
       "0                6           3.34         13.0        2.76           0.0   \n",
       "1                1           1.80         16.0        4.00           0.0   \n",
       "2                1           1.00          6.5        1.45           0.0   \n",
       "3                1           3.70         20.5        6.39           0.0   \n",
       "4                1           4.37         16.5        0.00           0.0   \n",
       "\n",
       "  passenger_first_name     travel_time  travel_time_seconds  \n",
       "0               Pamela 0 days 00:14:04                  844  \n",
       "1             Michelle 0 days 00:26:30                 1590  \n",
       "2                 Tina 0 days 00:07:12                  432  \n",
       "3              Anthony 0 days 00:30:15                 1815  \n",
       "4              Brianna 0 days 00:16:43                 1003  "
      ]
     },
     "execution_count": 252,
     "metadata": {},
     "output_type": "execute_result"
    }
   ],
   "source": [
    "data.head()"
   ]
  },
  {
   "cell_type": "code",
   "execution_count": 253,
   "id": "57ea4f52",
   "metadata": {},
   "outputs": [],
   "source": [
    "# Q. 승객이 지불한 총 요금을 total_amount 컬럼으로 저장합니다.\n",
    "\n",
    "data['total_amount'] = data['fare_amount'] + data['tip_amount'] + data['tolls_amount']"
   ]
  },
  {
   "cell_type": "code",
   "execution_count": 254,
   "id": "f3ffeca8",
   "metadata": {},
   "outputs": [
    {
     "data": {
      "text/plain": [
       "<AxesSubplot:xlabel='fare_amount', ylabel='trip_distance'>"
      ]
     },
     "execution_count": 254,
     "metadata": {},
     "output_type": "execute_result"
    },
    {
     "data": {
      "image/png": "[encoded data removed]",
      "text/plain": [
       "<Figure size 432x288 with 1 Axes>"
      ]
     },
     "metadata": {
      "needs_background": "light"
     },
     "output_type": "display_data"
    }
   ],
   "source": [
    "# Q. fare_amount와 trip_distance 사이의 관계를 scatter plot으로 표현합니다.\n",
    "sns.scatterplot(x = data['fare_amount'] , y= data['trip_distance'])"
   ]
  },
  {
   "cell_type": "code",
   "execution_count": 255,
   "id": "019809eb",
   "metadata": {},
   "outputs": [
    {
     "data": {
      "text/plain": [
       "<AxesSubplot:xlabel='fare_amount', ylabel='travel_time_seconds'>"
      ]
     },
     "execution_count": 255,
     "metadata": {},
     "output_type": "execute_result"
    },
    {
     "data": {
      "image/png": "[encoded data removed]",
      "text/plain": [
       "<Figure size 432x288 with 1 Axes>"
      ]
     },
     "metadata": {
      "needs_background": "light"
     },
     "output_type": "display_data"
    }
   ],
   "source": [
    "# Q. fare_amount와 travel_time 사이의 관계를 scatter plot으로 표현합니다.\n",
    "data['travel_time_seconds'] = data['travel_time'].dt.total_seconds()\n",
    "\n",
    "sns.scatterplot(x = data['fare_amount'] , y= data['travel_time_seconds'])"
   ]
  },
  {
   "cell_type": "code",
   "execution_count": 256,
   "id": "1c00dd1a",
   "metadata": {},
   "outputs": [
    {
     "data": {
      "text/plain": [
       "<AxesSubplot:xlabel='trip_distance', ylabel='travel_time_seconds'>"
      ]
     },
     "execution_count": 256,
     "metadata": {},
     "output_type": "execute_result"
    },
    {
     "data": {
      "image/png": "[encoded data removed]",
      "text/plain": [
       "<Figure size 432x288 with 1 Axes>"
      ]
     },
     "metadata": {
      "needs_background": "light"
     },
     "output_type": "display_data"
    }
   ],
   "source": [
    "# Q. trip_distance와 travel_time 사이의 관계를 scatter plot으로 표현합니다.\n",
    "data['travel_time_seconds'] = data['travel_time'].dt.total_seconds()\n",
    "sns.scatterplot(x = data['trip_distance'] , y= data['travel_time_seconds'])\n",
    "\n"
   ]
  },
  {
   "cell_type": "code",
   "execution_count": 258,
   "id": "9f8280c3",
   "metadata": {},
   "outputs": [],
   "source": [
    "# Q. scatter plot으로 관찰된 travel_time의 이상치를 제거합니다.\n",
    "\n",
    "data = data[data['travel_time_seconds'] < 60000]\n"
   ]
  },
  {
   "cell_type": "code",
   "execution_count": null,
   "id": "897769fd",
   "metadata": {},
   "outputs": [],
   "source": []
  },
  {
   "cell_type": "code",
   "execution_count": null,
   "id": "0d438e46",
   "metadata": {},
   "outputs": [],
   "source": []
  },
  {
   "cell_type": "code",
   "execution_count": null,
   "id": "cdc38db7",
   "metadata": {},
   "outputs": [],
   "source": []
  },
  {
   "cell_type": "code",
   "execution_count": null,
   "id": "b7f5041a",
   "metadata": {},
   "outputs": [],
   "source": []
  },
  {
   "cell_type": "code",
   "execution_count": null,
   "id": "a34d9916",
   "metadata": {},
   "outputs": [],
   "source": []
  },
  {
   "cell_type": "code",
   "execution_count": null,
   "id": "9fbde1a6",
   "metadata": {},
   "outputs": [],
   "source": []
  },
  {
   "cell_type": "code",
   "execution_count": null,
   "id": "12971f71",
   "metadata": {},
   "outputs": [],
   "source": []
  },
  {
   "cell_type": "code",
   "execution_count": null,
   "id": "627de358",
   "metadata": {},
   "outputs": [],
   "source": []
  }
 ],
 "metadata": {
  "kernelspec": {
   "display_name": "Python 3 (ipykernel)",
   "language": "python",
   "name": "python3"
  },
  "language_info": {
   "codemirror_mode": {
    "name": "ipython",
    "version": 3
   },
   "file_extension": ".py",
   "mimetype": "text/x-python",
   "name": "python",
   "nbconvert_exporter": "python",
   "pygments_lexer": "ipython3",
   "version": "3.9.7"
  }
 },
 "nbformat": 4,
 "nbformat_minor": 5
}
